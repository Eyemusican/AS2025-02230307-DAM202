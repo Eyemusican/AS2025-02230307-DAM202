{
  "cells": [
    {
      "cell_type": "markdown",
      "metadata": {
        "id": "f6kKgcOAiHug"
      },
      "source": [
        "# Word2Vec Training & Evaluation on Alice’s Adventures in Wonderland"
      ]
    },
    {
      "cell_type": "markdown",
      "metadata": {
        "id": "TbpgHYP6iO5c"
      },
      "source": [
        "This project implements a custom Word2Vec model trained specifically on Lewis Carroll's \"Alice's Adventures in Wonderland\" to understand how neural word embeddings capture semantic relationships in literary text.\n"
      ]
    },
    {
      "cell_type": "markdown",
      "metadata": {
        "id": "DTY1TJk8PyD3"
      },
      "source": [
        "### What This Code Actually Does"
      ]
    },
    {
      "cell_type": "markdown",
      "metadata": {
        "id": "T-r_ZpKGP5dp"
      },
      "source": [
        "I have built a complete Word2Vec training pipeline that:\n",
        "\n",
        "- **Loads and preprocesses** the Alice in Wonderland text\n",
        "- **Trains a neural network** to learn word relationships from the book\n",
        "- **Evaluates the model's performance** on understanding word similarities and analogies\n",
        "- **Visualizes the learned word relationships** to see how characters and concepts cluster together\n",
        "\n",
        "The model learns to represent each word as a vector of numbers, where words with similar meanings (like \"alice\" and \"girl\") end up having similar vector representations."
      ]
    },
    {
      "cell_type": "code",
      "execution_count": 1,
      "metadata": {
        "colab": {
          "base_uri": "https://localhost:8080/"
        },
        "id": "ODEyVrD9Mfte",
        "outputId": "d9166553-3bb5-4724-f564-8ffcbeaa4769"
      },
      "outputs": [
        {
          "name": "stdout",
          "output_type": "stream",
          "text": [
            "Requirement already satisfied: gensim in /usr/local/lib/python3.12/dist-packages (4.3.3)\n",
            "Requirement already satisfied: numpy<2.0,>=1.18.5 in /usr/local/lib/python3.12/dist-packages (from gensim) (1.26.4)\n",
            "Requirement already satisfied: scipy<1.14.0,>=1.7.0 in /usr/local/lib/python3.12/dist-packages (from gensim) (1.13.1)\n",
            "Requirement already satisfied: smart-open>=1.8.1 in /usr/local/lib/python3.12/dist-packages (from gensim) (7.3.0.post1)\n",
            "Requirement already satisfied: wrapt in /usr/local/lib/python3.12/dist-packages (from smart-open>=1.8.1->gensim) (1.17.3)\n"
          ]
        }
      ],
      "source": [
        "!pip install gensim\n"
      ]
    },
    {
      "cell_type": "code",
      "execution_count": 6,
      "metadata": {
        "colab": {
          "base_uri": "https://localhost:8080/"
        },
        "id": "ptas1KnqGWMX",
        "outputId": "84d27c98-28c4-4cf9-faaa-29420837734f"
      },
      "outputs": [
        {
          "name": "stdout",
          "output_type": "stream",
          "text": [
            "Mounted at /content/drive\n"
          ]
        }
      ],
      "source": [
        "from google.colab import drive\n",
        "drive.mount('/content/drive')"
      ]
    },
    {
      "cell_type": "code",
      "execution_count": 53,
      "metadata": {
        "id": "kY4Yx5T0GQUP"
      },
      "outputs": [],
      "source": [
        "ROOT = \"/content/drive/MyDrive/DAM202\"\n",
        "import os\n",
        "os.chdir(ROOT)"
      ]
    },
    {
      "cell_type": "code",
      "execution_count": 54,
      "metadata": {
        "colab": {
          "base_uri": "https://localhost:8080/"
        },
        "id": "HdDlXHldGkrr",
        "outputId": "9b98cccc-797b-460b-8604-c65f9e25c4f0"
      },
      "outputs": [
        {
          "data": {
            "text/plain": [
              "['text.txt', 'my_word2vec_model.model', 'improved_word2vec_model.model']"
            ]
          },
          "execution_count": 54,
          "metadata": {},
          "output_type": "execute_result"
        }
      ],
      "source": [
        "os.listdir()"
      ]
    },
    {
      "cell_type": "markdown",
      "metadata": {
        "id": "QzQf78-7GoQD"
      },
      "source": [
        "### Data Collection and Preparation"
      ]
    },
    {
      "cell_type": "code",
      "execution_count": null,
      "metadata": {
        "id": "QV_7S3zGHnSw"
      },
      "outputs": [],
      "source": [
        "open(\"text.txt\", \"w\", encoding=\"utf-8\").close()"
      ]
    },
    {
      "cell_type": "code",
      "execution_count": 55,
      "metadata": {
        "id": "OrBRcCDCGlJk"
      },
      "outputs": [],
      "source": [
        "with open('text.txt', 'r', encoding='utf-8') as f: # Remember your data set path should be specified if not in same working directory\n",
        "    texts = f.readlines()"
      ]
    },
    {
      "cell_type": "markdown",
      "metadata": {
        "id": "nG0kx3B5ia1V"
      },
      "source": [
        "- Loads the raw text file (Alice’s Adventures in Wonderland).\n",
        "\n",
        "- Splits into lines for further processing."
      ]
    },
    {
      "cell_type": "code",
      "execution_count": null,
      "metadata": {
        "colab": {
          "base_uri": "https://localhost:8080/"
        },
        "id": "Q4ITKRGrGu42",
        "outputId": "5e15af6f-2f9e-4fd0-8ae2-02a96b63d665"
      },
      "outputs": [
        {
          "data": {
            "text/plain": [
              "[\"\\ufeffALICE'S ADVENTURES IN WONDERLAND\\n\",\n",
              " '\\n',\n",
              " '\\n',\n",
              " '                          Lewis Carroll\\n',\n",
              " '\\n',\n",
              " '\\n',\n",
              " '               THE MILLENNIUM FULCRUM EDITION 3.0\\n',\n",
              " '\\n',\n",
              " '\\n',\n",
              " '\\n']"
            ]
          },
          "execution_count": 6,
          "metadata": {},
          "output_type": "execute_result"
        }
      ],
      "source": [
        "texts[:10]"
      ]
    },
    {
      "cell_type": "markdown",
      "metadata": {
        "id": "ZJnGcuC8g6lO"
      },
      "source": [
        "# IMPORT LIBRARIES"
      ]
    },
    {
      "cell_type": "code",
      "execution_count": 229,
      "metadata": {
        "id": "Hr9e3KIzg6Bp"
      },
      "outputs": [],
      "source": [
        "import os\n",
        "import re\n",
        "import time\n",
        "import string\n",
        "import warnings\n",
        "import numpy as np\n",
        "import pandas as pd\n",
        "import matplotlib.pyplot as plt\n",
        "import seaborn as sns\n",
        "from collections import Counter, defaultdict\n",
        "from scipy.stats import spearmanr\n",
        "from sklearn.manifold import TSNE\n",
        "from sklearn.decomposition import PCA\n",
        "from sklearn.metrics.pairwise import cosine_similarity\n",
        "from sklearn.cluster import KMeans\n",
        "import multiprocessing\n",
        "import matplotlib.pyplot as plt\n",
        "import seaborn as sns\n",
        "import numpy as np\n",
        "from gensim.models import Word2Vec"
      ]
    },
    {
      "cell_type": "markdown",
      "metadata": {
        "id": "pMO59YwGuJez"
      },
      "source": [
        "**Data Quality Assessment**\n"
      ]
    },
    {
      "cell_type": "markdown",
      "metadata": {
        "id": "46OsItnTUda9"
      },
      "source": [
        "This function checks the quality of text data before training Word2Vec. It counts how many documents and words there are, measures sentence lengths, finds the most common words, and calculates quality scores like vocabulary diversity, word frequency, and rare word ratio. Basically, it tells me if my text data is rich, balanced, or too repetitive."
      ]
    },
    {
      "cell_type": "code",
      "execution_count": 101,
      "metadata": {
        "colab": {
          "base_uri": "https://localhost:8080/"
        },
        "id": "M6c7i8EhuC_R",
        "outputId": "8d37d99b-f43f-4b52-b08b-75ba639295f8"
      },
      "outputs": [
        {
          "name": "stdout",
          "output_type": "stream",
          "text": [
            "Total documents: 2,592\n",
            "Vocabulary size: 4,890\n",
            "Unique Words: {'balanced', 'form', 'hold', 'noise', 'fighting', 'tail,', 'digging', 'cause', 'first--verdict', 'nile', 'encouraging', 'friends', 'whether', 'surprise.', \"whiles.'\", 'promising,', 'alone.', 'inside,', 'stopping', 'pale,', 'people.', 'enough--i', 'feelings', \"usual,'\", \"attending!'\", 'your', 'sea,', 'sends', 'words:', \"getting!'\", \"know!'\", 'fixed', 'paris', '`give', \"`shan't,'\", \"days.'\", 'hare.', '`would', 'first;', 'learn', 'riddle', 'undoing', 'sage,', 'next!', 'two--\"', 'bottle.', 'pieces.', 'ears', 'one--but', 'dinah:', 'crash', \"yet?'\", 'hurry;', 'doubled-up', \"where--'\", 'washing--extra.\"\\'', 'sensation,', \"pocket?'\", 'is', '`--yes,', 'places--', 'sneezing.', 'drinking.', 'one;', 'meanwhile', 'quarrelling', \"pace,'\", 'older', \"book,'\", 'replied', 'fancying', 'asleep,', \"queen?'\", 'very', 'charges', 'hurry.', 'hearts.', 'row', 'glass.)', '(before', 'circumstances.', \"talk,'\", 'remarkable', 'sort.', 'feelings.', 'jack-in-the-box,', 'lives', 'fish)--and', 'argue.', '`how', 'punished', 'anything,', 'company', 'knew', 'lately,', 'offended,', 'here?', '`orange', 'hurry:', 'strange', 'waving', 'take', 'swam', \"cup,'\", 'one', 'complaining', \"day--'\", 'name,', '`only', 'cried', 'leaves', '`very', 'before.', 'soldiers,', 'cakes', 'eyes:', 'boxed', 'upset', 'high:', 'william,\"\\'', 'against', 'lap', 'down', 'finished', 'paws', 'singers.', \"them.'\", 'ask.', 'told', 'herself,', 'tail', 'guinea-pig,', 'shrink', 'minding', 'girl', \"then?'\", \"let's\", 'scolded', 'passion,', \"down!'\", 'hedgehogs;', 'king;', 'reading,', 'queer', 'afraid', 'hand.', 'advantage', 'chains,', 'herself.', \"mind!'\", \"`well!'\", \"over!'\", 'swallowing', 'inwards,', 'sneeze,', 'easy', 'ambition,', 'list', 'went,', 'going,', 'new', 'signify:', 'children;', 'miss', 'resource,', '`their', 'stretched', 'come,', 'sing', 'long', 'busily', 'carefully,', '`explanations', 'waited.', \"be.'\", \"with?'\", 'dates', 'consultation', 'flamingo:', 'finish,', 'on?', 'hurried', \"experiment?'\", 'yawning.', 'creatures', 'hers--she', \"moment's\", 'bear?--mind', \"lessons!'\", 'often,', 'it!--that', 'claws,', 'advice', 'sleep,', \"up!'\", '`collar', 'advance!', 'promised', \"`they're\", 'boots', 'hands', '`sh!', 'pray', 'meekly:', 'passed', 'near.', 'gay', 'alice,)', 'worm.', 'given', '(or', \"t!'\", 'hedgehogs', 'else.', 'wonderful', 'harm', 'thin--and', 'other--bill!', 'gently', '`serpent,', \"weeks!'\", 'beginning', 'kindly', 'twist', \"so.'\", 'off,', \"didn't,'\", 'fear', \"sing,'\", 'officer', 'hastily;', 'stupid),', \"removed,'\", 'close,', \"afterwards.'\", '`digging', 'persons', \"plan.'\", 'still', 'growing', 'disappeared;', 'exclaimed,', 'floor,', 'believe', 'branches', 'neat', 'mouse--of', 'are;', 'downward!', 'think:', 'makes', \"dogs?'\", 'small', \"yet--it's\", \"'tis\", 'manage', 'whistle', '(alice', 'explain', 'pulled', 'you--all', '`well!', 'kindly,', 'slate--oh,', 'stretching,', 'call', 'growls', \"`wouldn't\", 'line:', \"hedges,'\", 'front', 'cakes,', 'voice--the', 'when', 'king,', 'swim.', 'always', 'sneezing,', 'nine', 'rome,', 'ugh,', \"to-day?'\", 'seen:', 'not,', 'pat!', 'justice', '(for', 'tittered', 'occurred', 'did,', 'spoon', \"shall!'\", \"puss,'\", 'tied', 'done,', 'mallets', \"hasn't\", 'muchness\"--did', 'otherwise.\"\\'', 'lullaby', '`if', 'latin', \"pun!'\", 'trumpet', 'key,', 'duck:', 'hearth', \"queen!'\", 'catch', 'crimson', \"march.'\", 'middle', 'secondly,', 'passing', 'buttons,', 'hanging', 'doze;', \"cat's\", 'shore,', 'mad,', \"(`that's\", 'uncorked', 'roast', 'reduced', 'story.', 'feet', 'bat!', '`ah,', 'run', 'lark,', 'cauldron', 'show', '\"you', 'rabbit-hole', \"all.'\", '`advance', 'chose', 'and', \"it.'\", 'broke', \"end.'\", \"australia?'\", 'mary', 'dishes.', \"`yes!'\", 'energetic', 'home;', 'whistling.', \"from,'\", \"somebody.'\", 'shoes', 'learning', '(`the', \"it's\", 'clinging', \"`dinah'll\", 'replied:', 'abide', 'manner', 'other;', \"nonsense.'\", 'spectacles,', \"man,'\", 'loudly.', 'table,', \"end,'\", 'them', 'blows', 'played', 'haste,', 'no,', \"is--'\", 'done.', 'things--i', \"any,'\", \"didn't!'\", \"pie--'\", 'fellow?', 'fond', 'protection.', 'candle', 'should', \"afraid,'\", 'pinch', 'dipped', 'hastily', 'turn', \"annoyed,'\", \"pardoned.'\", 'tale', 'led', 'trot', 'quietly', 'died', 'quietly,', 'lying', '`what!', 'caterpillar;', 'deal:', 'crouched', 'helpless', 'pretend', 'life!', 'dears!', 'alice:', 'sluggard,\"\\'', 'offended', 'story', 'means', 'across', \"through,'\", 'again:', 'inclined', 'forehead', '`are', 'gone', '`his', 'jelly-fish', 'producing', 'driest', 'joined', 'march', 'rat-hole:', 'hearts,', 'wood--(she', 'pair', 'rabbits.', \"`hadn't\", 'thrown', 'tipped', 'neighbouring', 'undo', \"grin,'\", \"school,'\", 'waistcoat-', 'pack', 'ourselves,', 'knowing', \"either!'\", 'managed?', 'course--', 'funny', \"saying.'\", 'morcar,', \"well?'\", 'things', 'spoke--fancy', 'persisted', 'why', 'respect.', 'miles', 'arm-chair', 'does,', 'purring', 'nibbled', 'room,', 'instead', 'someone', 'said:', 'wink', 'heads', 'evidently', 'beautifully', 'window,', 'certainly', 'soldier', \"prisoner's\", 'drawling--the', 'themselves.\"\\'', 'taste', 'settling', 'wrote', 'branch', '`exactly', 'terrier,', 'appeared', 'books,', \"right!'\", 'hands,', 'generally,', 'station.)', 'within--a', \"like?'\", 'blades', 'eels,', 'alarm.', \"it'll\", '`one', 'along--`catch', 'girls', 'pie-crust,', \"sisters,'\", 'ridges', 'sweet-tempered.', \"stop.'\", 'five!', 'sitting', 'hungry', 'teapot.', \"course?'\", 'cat', '`why,', 'speaking,', \"longer!'\", '`keep', \"`yes,'\", 'ignorant', 'stood', 'bread-', 'heads.', 'must,', 'sight,', 'prize', \"time,'\", 'ledge', '`--but', 'folded,', \"shouldn't\", 'voice', 'history,', '`that', 'patiently.', 'master', 'lobsters,', \"know.'\", 'around,', 'fetch', 'hiss', 'crawling', 'kings', 'sorts', 'going', 'recognised', 'share', 'table:', 'fell', 'may', \"did,'\", 'pleasant', '(if', 'simply', 'anxiously.', 'sulky,', 'shorter,', \"`nothing,'\", 'were', 'honour,', 'brass', \"i,'\", \"verdict,'\", '`drink', 'snail,', 'jumped;', 'readily:', 'editions', 'righthand', 'livery:', 'began:--', \"guilt,'\", 'around', \"do!'\", 'swallow', \"again,'\", '`twinkle,', 'smiled', \"dance,'\", '`twenty-four', 'chief', 'reply,', 'improve', 'cattle', 'hers', \"lady,'\", 'that;', \"brother's\", 'course,', 'difficulty', '`prizes!', 'atheling', 'sounded', 'not', '`\"what', 'close', 'impossible.', \"telescope.'\", 'once,', \"course,'\", 'sky!', 'see\"!\\'', 'added,', \"`very,'\", 'drink', 'arm,', 'singers', '(`i', 'above', \"less,'\", 'is--\"oh,', 'shiver.', 'could!', \"execution.'\", 'rabbit,', \"last!'\", \"mostly,'\", 'near', 'curtain', '`let', 'circle,', '`then', 'leading', '`go', 'panting,', 'crept', 'bottle', 'rest', \"away,'\", 'tones', 'pencils', \"somewhere.'\", 'unfortunate', 'submitted', \"kind,'\", 'open', 'solemn', 'eagerly,', \"bit,'\", '`important--unimportant--', 'uneasily', 'soon.', 'winter', \"liked.'\", \"mine,'\", 'aloud.', \"cats.'\", 'wriggling', 'drew', '`as', '`he', 'way', \"shan't!\", 'shoulder,', 'want', '`oh', 'processions;', 'croqueting', 'spreading', 'plan,', 'this:--', 'made.', 'deal', 'silent', 'put', 'mine', 'afraid,', 'favoured', \"be?'\", 'i?', 'yer', \"caterpillar's\", 'feared', \"him.'\", 'creatures,', \"isn't,'\", 'mean,', 'knee,', 'closely', 'opened', \"size,'\", \"had!'\", 'currants.', 'shriek', 'like:', 'sending', 'series', 'velvet', 'held', 'aloud;', \"queen's\", 'shouting', 'wherever', '`oh,', 'next', \"what's\", \"think--'\", 'here;', \"somewhere,'\", \"us,'\", 'smoking', 'slipped', 'part', 'riper', \"can,'\", 'feel', \"old,'\", 'morning?', 'it!', 'think;', 'grinned', 'been.', 'ferrets', 'vague', \"watch!'\", 'late,', \"holiday?'\", 'smile:', 'quarrelled', 'white,', \"late.'\", 'more--as', 'foot', 'face--and', 'creep', 'since', 'blew', 'gravely,', 'until', 'wretched', 'earth.', 'said,', \"hush!'\", 'entangled', '`nine', '`which', 'instantly,', 'boldly:', \"again?'\", 'singing', \"verse,'\", 'to--to', 'wooden', 'goldfish', 'tongue,', 'come', 'imagine', 'exclamation', \"shiny?'\", 'strange,', \"`it'll\", 'exclaimed', 'trial:', 'noticing', 'undertone,', 'finger,', 'comfits:', 'moment:', \"trial's\", '`living', 'declare', 'grunted,', 'after', '`nor', '`repeat,', 'then--always', 'deeply,', \"we're\", 'am,', \"you,'\", \"meant,'\", 'reeds--the', \"couldn't\", 'ask!', '`without', 'over.', 'dish', 'sang', 'question', '`was,', 'tight', 'grumbled:', 'kid', 'fading', \"cats?'\", 'mice--oh,', 'too:', 'old,', 'bursting', 'and--oh', 'treading', 'gardeners,', 'fan', 'hate', \"remarks,'\", 'teeth,', 'longer', '`shall', 'then;', 'treacle', 'hastily,', 'clapping', 'happened', 'watching', 'shoulder', 'exclaimed.', 'really', \"pig!'\", 'further', 'asleep', \"trouble!'\", 'faster', 'candle.', 'knowledge,', 'trying,', \"one.'\", 'fountains.', 'red.', 'tarts?', 'saves', 'it', 'hours', 'execution--once', \"mine.'\", 'that!', 'eyes.', 'presents', 'suet;', \"giddy.'\", \"english,'\", 'ear.', 'golden', \"way?',\", 'done', 'tail;', 'ladder?--why,', \"lessons,'\", 'this,', 'use', 'uneasily,', 'lady', 'curtseying', 'goes', 'rule,', 'child,', '`unless', 'brightened', 'say,', 'disgust,', 'hatter,', \"like!'\", 'trembling', 'changed,', '`and', 'tiny', \"shan't\", 'us.', 'besides', '`pray', 'london', \"extras?'\", 'learned', 'ordered', 'elsie,', 'archbishop', 'thought,', 'bathing', 'rise', 'further.', 'nose', 'ending', \"matter,'\", \"evidence,'\", 'bit.', 'executioner,', 'as,', 'chorus,', 'sudden', 'coaxing', '`i--i', 'letters.', 'won,', 'waiting', 'footsteps,', 'cake,', \"better,'\", 'love,', 'larger', \"names,'\", \"waist,'\", 'mouse:', 'first--they', 'setting', 'scratching', 'pointed', \"`serpent!'\", 'without--maybe', 'nice,', 'right', 'true):', 'used--and', 'panted', \"dancing.'\", 'get', \"child!'\", 'hall,', 'man', 'appear', 'talking:', 'foot,', 'delight', 'again', 'general', 'fly', 'thought),', \"derision.'\", 'rule', 'truthful', 'knave', 'puzzling', 'day', 'think', 'animals', 'blacking,', 'did', 'turtle.', 'conger-eel,', \"oyster!'\", 'moving', 'herself', 'running', 'knife,', 'remarks', 'break.', \"one?'\", '`seals,', \"fact.'\", 'thunder,', 'silent,', 'much.', 'box', 'multiplication', \"not.'\", \"temper,'\", \"trying--'\", 'roses.', 'lessons:', 'remembered', \"opinion,'\", 'presently', 'vinegar', \"majesty?'\", \"sh!'\", 'carried', 'stigand,', 'finds', 'tea-time,', \"growing.'\", 'knew,', 'hear', 'stop.', 'asleep.', 'lesson-book.', 'best', \"ache!'\", 'vii', 'days.', 'hurt,', 'procession,', \"i've\", 'mouse--o', \"`stolen!'\", 'her', 'delighted', 'pool?', 'know', 'ordering', \"question,'\", 'cards:', 'him!', 'wet', \"whiting!'\", '`however,', '\"much', 'table.', 'diligently', 'timidly:', 'for,', \"she's\", '`found', 'caterpillar', 'so.', 'wondered', 'howling', 'five.', \"tongue!'\", '`fourteenth', 'far!\"', \"fun!'\", 'seems', 'morning', 'fond--of--of', 'familiarly', 'old', \"mouse's\", 'curving', 'growl', 'size:', 'least--at', 'alarmed', 'together.', 'turtle--we', 'hand', 'you?', 'ought', 'crown', 'spades,', 'wise', 'excellent', 'frog;', \"late!'\", 'way!', 'pronounced', 'animal', 'birthday', 'went.', 'chimney,', 'forwards', '`each', 'verses', 'again--\"before', 'fright.', 'speak,', 'pigs', 'time.)', \"choice!'\", 'might,', 'licking', 'song', 'house', 'hard', 'taking', 'handsome', 'roared', 'thimble,', 'drawing', 'other', \"lobsters!'\", 'duck', \"explained,'\", 'cried.', \"would,'\", 'maps', 'begin,', 'either,', 'latitude', 'live', 'with,', 'leaves,', 'stick,', 'underneath', '`chop', 'confused', 'him--it', 'contradicted', 'executions', \"not!'\", 'seldom', 'frowning,', 'sure', 'knowledge', \"creatures,'\", 'rustled', 'shut.', 'bit', 'is--\"be', 'offer', 'me!', 'chimney?--nay,', 'slightest', 'fall', '`hm!', 'carrying', 'seated', 'oneself', 'attempts', 'sea.', 'two:', 'does', 'speech.', 'comfortable,', 'laughter.', \"that!'\", 'tears,', 'creature', \"mad.'\", \"don't\", 'hippopotamus,', 'knee', 'solemnly,', 'minutes', '`behead', 'door', 'northumbria,', 'bill,', 'mouse--a', 'impatiently,', \"`never!'\", 'her:', 'jumped', '`all', 'spoke;', 'disagree', 'place', 'though', 'swallowed', 'timid', 'ready', 'mustard-mine', 'rate,', \"won't!'\", 'day-school,', 'twelve', 'look', 'you', 'crash,', \"croquet.'\", \"right,'\", 'gloves,', 'folded', 'minutes,', 'french', 'shriek,', 'saucepan', 'bound', 'follow', 'doth', 'games', 'round!\"\\'', 'dreadful', 'red', '`crumbs', 'business,', 'true--\"', 'indignant', 'visit', 'its', 'owl', 'bowed', 'darkness', 'respectful', 'down:', 'feeling', 'bottom', \"fellow?'\", 'uncomfortable.', '`do', 'limbs', '`explain', 'witness.', 'ink,', 'then,', 'length', 'magpie', 'milk-jug', 'chance', 'here.', 'open,', 'invented', 'directly.', \"everything's\", 'tired', 'expression', 'encourage', 'crossed', 'kept', \"housemaid,'\", 'pig,', 'draw,', 'though.', 'coming.', 'day!', '`consider', 'used', 'upstairs,', 'dormouse;', '`may', 'doing', \"mind,'\", \"shoes.'\", 'break', 'having', 'repeated,', 'burst', 'lobster;', 'bit,', 'shrill', 'perfectly', 'mouse,', \"`arrum.')\", \"bill's\", 'uncomfortable', 'double', 'leaves:', 'examining', 'three,', 'rome--no,', \"next!'\", 'confused,', 'drawling,', 'twinkled', 'toss', 'goose,', \"high,'\", 'round', 'dear,', 'play', 'overcome', 'it?)', \"it!'\", 'garden:', 'knave.', 'tone.', 'gravely.', 'classics', 'today.', 'pleasing', 'tunnel', '`boots', 'deeply', \"you!'\", 'sound', 'paw', 'then--i', 'with', 'king:', 'curiosity.', 'lazily', '`nothing', 'unhappy.', 'venture', 'best.', \"sobbing,'\", 'follows:--', 'exact', 'a-piece', 'pleasure', 'beds', 'remark,', \"know,'\", 'eye;', 'pattering', \"that.'\", 'narrow,', '`please,', 'end,', 'ringlets', 'm,', \"dream!'\", 'powdered', 'minute', 'cold', 'telling', 'dormouse,', 'fairy-tales,', \"you're\", 'you--are', 'using', 'jury.', 'anxiously', 'law:', 'writing-desks,', \"ordered';\", 'away', '`eat', 'curious', 'tumbled', 'know--and', 'head--', 'nothing:', 'inches', 'banquet--]', 'ever:', 'theirs,', 'free', 'soo--oop', 'mournfully.', 'arches.', 'do,', \"conversation?'\", 'angry,', 'belongs', 'invited', 'full', 'pairs', 'sigh:', 'hatching', 'blown', \"`treacle,'\", 'pocket)', 'stand,', 'dormouse.', 'began', 'suppress', 'disappeared.', 'duchess', 'rude,', 'assembled', 'worse.', 'happen', 'arithmetic--', 'days', 'fall,', 'of', 'placed', '`oh!', 'number', 'holding', '\"what', 'sort', 'anxious', 'flashed', \"jury--'\", 'scream', 'tucked', 'ago:', 'sometimes,', 'then', 'coming', 'you!', 'anger,', 'itself,)', \"day!'\", 'character,', 'dinah!', 'dodo', 'pine-apple,', 'dishes', 'how', '`for', 'afterwards,', \"feet!'\", 'saucepans,', 'dive', 'calling', 'woke', 'treated', 'sobs', 'somebody,', 'far', 'expressing', \"to--'\", 'set', 'lefthand', 'jaws', 'half', 'northumbria--\"\\'', 'timidly;', 'now,', 'trotting', '`now,', 'trying', 'nicely', 'more.', '`unimportant,', 'on!\"', 'sometimes', 'alone', '`why', \"here!'\", 'second', 'squeaking', 'lewis', 'hare:', 'flapper', 'dog', 'on;', 'mustard', 'all:', 'dark', \"talking!'\", \"too,'\", 'arranged;', 'rich', \"room!'\", 'to-day!', 'rate!', 'hookah,', 'letter,', \"was.'\", \"haven't,'\", 'grass', 'corner', '`tut,', \"`why,'\", 'sigh,', 'attempted', 'result', 'tree', 'look-out', 'tongue', 'rose-tree,', 'others', 'knows', 'up', '(`which', \"treacle,'\", \"was,'\", 'hot,', 'arches', 'shade:', 'killing', 'laughing', '`beautiful', 'measure', 'settled', 'conversation', 'rudeness', 'from', 'politely', 'trims', 'grow', 'ann,', 'sharp', 'closed', 'majesty', 'sugar', 'conclusion', 'stoop', 'sprawling', \"sir'\", \"`poison,'\", 'words:--', \"she'll\", 'seeing', 'sharing', \"won?'\", 'anything.', \"accusation!'\", 'geography.', 'finger', 'woman--', 'word)', 'water,', 'sleepy,', 'faint', '`talking', 'barking', \"m?'\", '`swim', 'unfolded', 'roof.', \"`silence!'\", 'long,', '`please', 'game,', '\"he\\'s', 'passionate', 'go.', 'tone', 'jumping', 'tone;', 'right-hand', 'can;', 'locks', \"bill,'\", \"seems,'\", 'pence.', 'rabbit:', 'bend', 'pleased,', 'body', 'few', 'slates', 'else\"--but,', 'marched', 'fan!', 'bleeds;', 'shining', 'thought', \"done.'\", '`your', 'stupidly', 'fun', 'scroll,', 'crown.', \"fourth.'\", 'balls', 'directions', '`--that', 'sight:', 'faces', 'frontispiece', \"not,'\", 'precious', '\"uglification,\"\\'', 'cupboards', 'course', '(a', \"twelfth?'\", 'himself,', \"again.'\", 'minute.', 'morals', 'cake.', 'hoped)', 'uncomfortably', 'toes', 'hoping', 'violently', 'music,', 'accidentally', \"that'll\", 'nervous', \"won't,\", '`--as', 'list,', 'tea.', \"bit.'\", 'experiment', 'grew', 'animals,', \"morning,'\", \"life.'\", 'growing,', \"a--i'm\", \"tasted--'\", 'sleepy', 'gone.', 'proceed.', 'feeble', 'pulling', 'distance,', 'all!', 'sorry', \"wine,'\", 'spoken', 'flock', 'all.', 'paw,', 'honest', \"they're\", 'must', 'laid', 'wind,', 'taller,', 'dropping', 'ready?', 'right,', 'fellow!', 'lazy', 'contempt.', 'what', 'respectable', 'laugh;', \"stairs!'\", 'nonsense', \"we've\", '`hush!', 'because', 'ask', 'languid,', \"nonsense,'\", 'figure', '`turn', 'interrupted:', 'reply.', 'mistake', 'crowded', 'ours', 'tea;', 'kind', 'on:', 'silence', '`once', 'agree', '(though', 'salt', 'even', \"knot!'\", 'marked', 'reasonable', 'please,', 'attends', 'neighbour', \"fancy--who's\", 'feet!', 'caused', 'talk', 'size;', 'zigzag,', 'draw', \"know?'\", 'people', 'printed', 'somehow', 'eyes,', '\"twinkle,', 'about;', \"other.'\", 'wet,', 'stirring', 'before,', 'followed', 'yesterday', 'doubtfully,', 'juror', 'listeners', 'opportunity', 'dodo,', 'again.)', '`they', \"figures!'\", 'her,', 'players,', 'merrily', 'grey', \"three.'\", 'toffee,', 'beating.', 'year', 'dripping', \"them--'\", 'fancy', \"one,'\", 'other.', 'shape', 'considering', \"first,'\", 'finger;', 'again,', 'untwist', 'understand.', 'saw', 'machines', 'with.', 'speak', 'sighed', 'tea-things', 'way.', 'tears!', 'children', 'persisted.', 'oldest', 'being', \"that?'\", \"coming!'\", 'zealand', 'worth', 'this.', '`an', 'deep,', '`speak', 'world', 'signifies', 'words', 'swim--\"', \"lower,'\", 'watched', 'wag', 'keep', 'way?', \"bats?'\", 'him', 'get\"', 'stairs.', \"here.'\", \"curious!'\", 'prevent', 'account', 'pocket', 'wandered', \"william's\", 'writing', \"else's\", 'kills', 'comfortably', 'gryphon:', \"dinn--'\", \"axis--'\", '`leave', 'sharply,', 'free,', '`wow!', 'practice', '`pepper,', '(the', 'eating', 'poor', \"words,'\", \"`he's\", 'fit--\"', '\"french,', \"sir--'\", 'out-of-the-way', 'strength,', 'cart-horse,', 'shrieked', 'way:--', 'worry', 'fanned', \"grin.'\", 'drawling-master', '\"there\\'s', 'pity.', \"yet,'\", 'line', '`in', \"enough,'\", 'beheading', 'mark;', 'speech', 'queen,', \"bat?'\", 'jar', 'flamingoes,', 'asked.', \"much,'\", \"weren't\", 'sea', 'moon,', 'left,', \"heard!'\", 'sentenced', 'help', 'four', '`come,', 'cross,', 'wander', 'barrowful', 'ear', 'and,', 'glad', 'pigeon.', 'lacie,', \"`fifteenth,'\", 'course;', 'sit', 'birds,)', 'gryphon,', '`seven', 'arch', 'dears?', \"mouse!'\", \"was!'\", 'soothing', 'baby', \"nothing.'\", 'note-book', 'nasty,', 'advise', 'quick', 'only', 'hurt', 'question;', \"chatte?'\", 'cautiously:', 'forepaws', 'curly', '`take', \"thimble,'\", 'tarts', 'coast', 'replied,', 'rate', \"caucus-race.'\", 'nervous,', 'bawled', \"soup!'\", 'cat.)', 'large', 'lory', 'smoke', 'clearer', 'life,', 'empty:', \"about,'\", 'porpoise', 'great', 'civil', \"here?'\", \"no!'\", 'flat', 'try', '`by-the-bye,', 'engaged', 'screamed', 'flowers', 'dismay,', 'spoon:', 'rules', 'timidly,', 'under', 'turning', 'roses', '`--likely', 'ground', 'dreaming', 'putting', 'shall', 'thoroughly', 'bristling', 'morning,', \"quadrille?'\", 'birds', 'sleepy;', \"turtle's\", 'paper', 'shaped', 'steam-engine', \"hatter.'\", 'newspapers,', 'changed', 'name:', 'cheap', 'at', \"whiskers!'\", 'hare,)', 'affair,', 'sobbed', '`\"will', 'most', 'quiver', 'stingy', 'out,', 'glass,', 'answered,', '\"purpose\"?\\'', 'smallest', 'much,', 'bore', 'taller', 'yawning', 'enjoy', 'turtles', \"more.'\", 'saying,', 'interrupting', '`she', 'lifted', 'yourself,', 'dried', 'dull', 'thick', 'world!', 'hit', 'once', 'happened,', 'distance--but', 'explanation;', 'slate', 'beheaded,', 'rattle', 'no!', 'everybody', '`you', 'yours:', \"hadn't\", \"chose,'\", 'puppy;', 'muddle', 'jury-box,', 'finishing', '`on', 'injure', '`reeling', \"proceed,'\", 'cry', 'him,)', 'conversation.', 'judge,', \"that's\", 'whispered', 'subject.', 'pale', 'sister', 'talking', \"there's\", 'takes', 'hair', \"treacle-well.'\", 'whereupon', 'wash', 'turtles,', '`--change', 'time.', 'confusion', 'why,', 'worried.', 'enough;', '`shy,', 'spoke', 'again!', 'raving', 'neck', \"others!'\", 'pressing', 'such', 'mouth', 'green', 'sun,', 'forty-two.', 'houses,', 'hatters', 'snatch', \"say,'\", 'ann!', 'poured', \"you'd\", \"mouse!')\", 'puzzled.', 'by', 'proves', \"far,'\", '`come', 'relief.', 'coaxing.', 'every', 'turkey,', 'proper', 'dormouse', 'herself;', 'serpents!', \"sort,'\", 'head--brandy', 'certainly:', \"to-day.'\", \"say.'\", 'air,', 'courtiers;', 'glanced', 'ask:', \"say--that's\", 'spoke,', '`write', '(she', 'head:', \"different,'\", 'introduce', 'miss,', \"figure!'\", '`stand', 'mushroom', 'tea-time.', \"thing,'\", 'questions.--how', \"`i--i'm\", 'corner--no,', 'murdering', 'head.', 'clock.', 'fireplace', \"indeed,'\", 'stalk', 'needs', 'subdued', 'cucumber-frames', \"egg!'\", 'garden', 'agony', 'it:', 'reasons.', 'middle,', 'he', 'hopeless', \"serpent!'\", 'triumphantly.', 'politely;', 'appealed', \"whatever,'\", '`when', '`what', 'accounting', \"`she'd\", 'him:', 'earth', '\"it\"', 'tea', 'vote', \"now--don't\", 'thank', 'repeating', 'began.', 'rock,', 'decidedly', \"doesn't\", 'paused', 'linked', '(as', 'into', 'mile', 'knock,', 'that', 'meaning', 'serpent,', 'baby;', 'waters', 'thistle', 'quick,', 'telescope', 'passion.', 'pinched', 'came', \"home?'\", 'walrus', 'nonsense.', \"invited,'\", \"story,'\", 'imitated', 'last:', 'sister;', 'stool', 'noticed,', 'uncommonly', 'offend', 'muttering', 'now?', 'draggled', \"alice's\", \"things--'\", 'riddles', 'arms,', \"`here!'\", 'ah,', 'serpent.', 'regular', 'five,', \"likes.'\", 'trumpet,', 'sensation', 'solemnly', 'apples,', 'why.', '`flamingoes', 'together', 'succeeded', 'off', 'pardon,', 'folding', 'sadly.', 'deeply.', 'conduct', 'now', 'goose!', 'dance', 'snail', 'claws', 'talk:', 'none,', 'only,', 'standing', 'throw', \"`what's\", 'ravens', 'shifting', \"this,'\", \"`idiot!'\", 'sits', \"ma'am,\", 'good-', 'both', 'provoking', 'wonderland', 'tried.', \"me'\", 'that,', 'all;', \"watch,'\", 'skimming', 'rapidly:', \"you've\", 'lessons', 'hall:', 'happened.)', 'whatever', 'dreamed', 'place,', 'so', 'ventured', 'arrived,', 'itself,', 'frog-footman', 'sand', 'stamping', 'ought!', '`two', '(and', 'desperate', '`hold', 'person', 'direction,', \"again!'\", 'humbly;', 'pressed', 'tut,', \"whiting,'\", 'spell', 'slate.', 'laughed', '`everybody', 'tinkling', 'beautify', 'argued', 'night-air', \"queen,'\", \"can--'\", 'shutting', \"`dinah's\", 'denies', 'advance', 'addressing', 'remark.', \"places!'\", \"partner!'\", 'rule:', 'work,', 'i', 'conclusion,', 'lit', 'doors', 'as', 'nurse!', 'label', \"story!'\", 'taken', 'are!', 'sooner', 'mabel', 'managing', 'pig', 'meaning.', 'flamingo,', 'alive;', 'doubtfully:', \"too.'\", \"with.'\", 'procession', 'comes', \"king,'\", 'far,', 'below,', '`who', \"mean,'\", 'corner,', 'passage', 'month,', 'small.', \"dear?'\", 'lory.', 'violent', 'writhing,', 'fact', 'middle.', 'flamingo.', \"i--'\", 'mabel!', 'hurrying', 'garden.', 'eel', \"tomorrow--'\", 'young', 'decided', 'air', 'manner,', 'back', 'deepest', 'usually', 'brought', 'swim', 'you:', 'seem,', 'suit', 'impatiently:', 'work', 'they', 'sneezes;', 'whisper', \"`important,'\", 'heap', 'times', \"window.'\", 'sigh.', \"order,'\", \"of?'\", \"she'd\", \"once.'\", 'wandering,', \"needn't\", 'flame', 'telescopes:', 'saucer', 'returning,', 'happens', 'with;', 'loud.', \"speaker,'\", 'making', \"prison,'\", 'shook', 'ate', 'finished.', \"myself.'\", 'denying', 'feeble,', 'touch', 'added', 'now.', \"court!'\", \"lines!'\", 'terms', 'names', 'opposite', 'scaly', 'am', 'sighing.', \"shoes!'\", 'dream,', 'plates', '_i_', 'doubling', 'likely', 'rush', 'sink', 'ridge', 'wide,', 'wrong,', 'slowly,', 'head!', '\"\\'tis', 'panther', 'many', \"ill.'\", 'bear:', 'late', 'effect:', 'all', 'deep', 'directly,', 'oh,', '\"turtle', 'choke', 'happen,', 'look!', \"he'll\", 'cucumber-frame,', 'little!', \"first.'\", \"away!'\", 'suppressed', 'judging', 'field', 'us,', 'grammar,', 'himself:', 'children.', 'muttered', \"to.'\", 'lodging', 'low', 'lamps', 'impossible', 'different,', '`where', 'are,', \"idiotic!'\", 'fur.', 'itself', \"onions.'\", \"croquet?'\", 'vanishing', 'trusts', 'mercia', \"sea-shore--'\", 'cat:', 'time,', 'noticed', 'alas!', 'remained', 'accounts', 'rapped', 'taught', 'england', 'signed', 'usurpation', \"things?'\", 'leaving', 'jury-box', 'tale,', 'suddenly:', 'executes', '`bring', 'entrance', 'pie', 'bone', 'quite', 'bitter--and--and', 'heard', 'choked', 'appearance', 'sky', 'suddenly,', 'watch', 'living', 'be\"--or', 'thatched', 'made', \"duchess,'\", \"uglifying!'\", 'indeed.', 'mabel,', 'puzzled,', 'while', 'opened,', 'produced', 'indeed:', 'else', 'struck', 'mouth,', 'broken.', 'hookah', \"`you'll\", '`because', 'verse', 'had', \"feeling!'\", 'mean', 'dunce?', \"court.'\", 'bread-and-butter', \"caucus-race?'\", \"cutting,'\", 'confusion,', 'butterfly,', \"ground.'\", 'dance.', 'elbow', \"duchess?'\", 'rubbed', 'hunting', 'allow', 'bent', 'timidly', 'difficult', 'dropped,', \"wrong!'\", 'cheeks,', '`a', 'father,', 'faintly', 'asking!', '`--and', 'interest', 'hurriedly', 'brave', 'neither', 'present', \"like,'\", \"myself,'\", 'change,', '`soo--oop', \"better.'\", 'raised', 'rightly', 'leave', 'life;', 'family', \"fun?'\", 'tea-tray', '`change', 'magic', 'further:', 'day,', \"now?'\", \"child,'\", 'simply--\"never', 'among', 'thousand', '(with', \"them!'\", 'nose--', \"growling,'\", 'involved', 'shoulders.', \"dear,'\", 'ceiling,', 'cardboard.)', 'trouble,', 'follow,', 'cat;', \"head!'\", 'a', 'past', 'sharply;', 'pour', 'rubbing', \"think.'\", 'cats', 'book-shelves;', 'dear!\"', 'growl,', '`at', 'sell', 'half-past', \"water-well,'\", 'three-legged', \"not?'\", 'dinah', 'asked,', 'altogether,', 'angrily', \"are!'\", 'gryphon', \"william,'\", 'treacle-well--eh,', 'toys', 'eagerly.', 'neatly', 'footman.', 'large,', \"back!'\", 'listen', 'walked', 'spite', 'answered', 'applause,', 'them--all', \"and-butter--'\", 'bough', 'croquet-ground.', 'school', 'mostly', 'over', 'almost', 'whispers', 'sob,', 'directed', '`curiouser', '(he', \"see,'\", \"thimble';\", \"about!'\", 'appearing', 'cushion,', 'her.', 'usual.', 'doubt:', 'breath,', 'grunted', 'pleased', \"advantage,'\", 'butter,', 'first,', \"impertinent,'\", 'repeated', 'on', 'adding,', 'slipped,', \"sister's\", 'duchess,', 'brown', '\"william', \"bite,'\", 'tasted', 'note-book,', 'waited', 'be', 'says', 'dead', 'civil,', \"heads!'\", '`mary', 'thoughtfully.', \"yourself,'\", \"question?'\", 'dogs', 'dish?', \"draw?'\", '`stupid', '`never', 'mouths--and', 'after-time,', 'ran,', '`sit', 'curiosity,', 'been', \"were',\", 'est', 'dozing', \"tea,'\", 'encouraged', 'pictures', 'comes,', 'e--e--evening,', '`herald,', '(we', 'game', 'wanted', '`sure,', 'guess', 'occasional', \"i!'\", \"then.'\", '`stuff', 'fish', 'low,', \"`you've\", 'eaglet', 'thing.', 'name', 'crab', \"`where's\", 'those', 'remain', \"on?'\", \"story.'\", 'fire,', 'doubt,', \"`no,'\", 'turtle', 'sorrows,', 'deny', 'sobs,', 'authority', 'footman', '\"come', 'rustling', 'pleased.', 'distance.', 'mixed', '`to', '--come,', 'woman;', 'hastily.', 'gravy,', 'sure,', 'obstacle', 'pop', 'voices--`hold', \"rude.'\", 'pepper', 'uneasy:', 'door--i', \"witness.'\", 'hated', 'twinkling!', 'paris,', '`till', 'uglify', \"handwriting?'\", \"\\ufeffalice's\", 'patriotic', 'contemptuously.', 'turn-up', 'bells,', 'tossing', 'adoption', 'know.', 'angry.', \"all?'\", 'day.', '`call', 'who', 'garden--how', \"verse.'\", \"he's\", 'dream:--', 'understood', 'executed', \"now!'\", 'so,', 'dispute', 'air.', \"together!'\", 'acceptance', 'silence.', 'turtle,', 'splendidly', '`three', 'crab,', 'clever', 'esq.', \"fellow!'\", 'thoughtfully', 'could.', 'yelled', \"`they'd\", '`i', 'tureen!', \"executioner's\", 'remarking,', 'door--', 'yawned', 'pounds!', 'mineral,', 'much', 'interrupted', \"simpleton.'\", 'suppose', 'door.', 'shilling', 'loud,', 'too,', 'pigeon', \"sea,'\", 'gained', '`first', 'william', \"alice!'\", 'graceful', '\"up', 'moment.', \"chimney!'\", 'word', \"`they--you've\", \"then!--bill's\", 'took', 'usual', 'easily', \"think,'\", 'moved.', 'lobster', 'gloves', 'neck,', 'plainly', 'our', 'france--', 'counting', 'it,', 'called', 'like\"!\\'', 'alice,', 'staring', \"beginning,'\", 'mark', 'matters', 'die.', 'uncomfortable,', 'cushion;', \"lobster--'\", 'oh!', 'officers', '`\"miss', \"curious.'\", 'serpents', 'me', 'that?--it', '\"i', 'bill!', 'furrows;', 'master,', 'sixpence.', 'door;', \"girl,'\", 'curls', 'time', 'moment,', 'executioner:', 'crumbs', 'wild', 'straight', 'some', 'plate.', \"is.'\", 'floor:', '`have', 'home!', 'ugly;', 'game.', 'child', 'two.', 'themselves', 'grinning', 'bank,', 'looked', 'nearly', 'twenty', 'mad.', 'cool', 'might', \"words.'\", 'blow', 'never!', 'declared', 'size?', 'nowhere', 'difficulty,', 'decidedly,', 'ever', 'this:', 'heart', 'pool--she', \"child?'\", 'ringlets,', 'question.', 'hoarse,', 'creatures.', 'more', 'soldiers', \"butter,'\", 'distant', 'things--everything', 'nevertheless', 'brain;', 'thump!', 'chin:', 'largest', 'one!', 'flavour', 'voice:', '(look', 'there,', 'would,', 'knocked.', 'ordered.', \"indeed!'\", 'severely.', 'therefore', 'softly', \"all!'\", 'escape,', 'mind,', \"alice's,\", 'fifth', 'invent', \"dear!'\", 'way--never', 'round,', 'alice;', \"were,'\", 'away.', 'burnt,', 'welcome', 'delay', '`allow', 'poky', \"pleases!'\", 'go,', 'feebly', 'snappishly.', \"cat,'\", 'morsel', 'advisable--\"\\'', 'stretching', \"you'll\", 'dressed,', 'duchess!', 'understand', 'tiptoe,', 'murder', \"`i've\", '`only,', 'kick', 'prizes.', 'bring', 'spoke.', 'tortoise,', 'prisoner', 'thinking', 'effect', 'head', 'lessons,', '`somebody', \"breathe.'\", 'roots', \"pardon,'\", \"happen,'\", 'up,', 'received', 'lizard', \"then!'\", \"begun.'\", 'pet:', 'queen!', 'history.', 'if--if', 'hedge.', \"head's\", \"to,'\", \"extremely--'\", 'dodo.', 'surprised', \"sea!'\", 'gallons', 'arm-in-arm', 'push', 'little--\"\\'', 'remarked.', 'ma', \"music.'\", 'twinkle,', 'despair', 'locks,', 'footsteps', 'flamingo', \"her,'\", 'holding,', 'had,', '`read', 'wider.', 'pig-baby', \"better';\", 'loud', 'saying', '`\"--found', 'night!', 'beauti--ful', \"wonder?'\", 'to-night,', 'waste', 'that.', 'uncivil.', 'wide', 'turtle:', 'alarm', 'laughed,', 'son,', \"`unimportant.'\", \"things!'\", 'top', 'memorandum', 'subject', 'settle', 'rats', 'becoming.', 'win,', 'sad', 'twice,', '`until', 'rest,', 'she,', \"writing-desk?'\", 'dinn', 'courtiers,', 'cherry-tart,', \"window?'\", 'luckily', 'meeting', 'explanation.', 'speak.', 'for', 'permitted', 'eyes--and', 'garden.\"\\'', 'well.', 'fan,', 'hint;', 'xii', 'pool,', 'fortunately', 'lock,', 'people!', 'kneel', 'curled', 'miserable', 'sands', 'sternly.', 'custard,', 'knelt', \"maybe,'\", 'timidly.', 'mouths.', 'bat,', 'remarked;', 'normans--\"', 'dreamy', 'dormouse:', \"well,'\", 'resting', 'round.', \"`why?'\", 'bringing', 'seen', 'useful,', 'fashion,', 'collected', 'broken', 'them:', 'together,', \"witness,'\", \"tea--'\", 'scale!', 'grazed', 'here,', \"coward!'\", 'porpoise?\"\\'', 'answer', 'feathers,', \"go,'\", 'hardly', 'she', 'write', 'lost:', 'buttered', \"beheaded!'\", 'nose,', 'alice)--', \"little!'\", '`well,', 'court!', 'next,', 'have', \"jurors.'\", 'particular.', 'baby:', 'accident,', 'doorway;', 'tone,', 'reading', 'temper.', 'questions', 'often', 'except', 'water', 'remarked,', \"majesty!'\", '`thank', 'were.', 'within', 'modern,', 'his', 'yelp', 'moment', 'less', 'teacup', '`from', 'daisy-chain', 'bend,', 'state', 'him),', 'sneezed', 'startled', 'soup!', \"cards!'\", 'painting', 'paws.', \"sea--'\", 'size,', 'pegs.', 'cheated', 'constant', '`ten', 'stop', 'small,', 'duchess;', 'enormous', 'boy,', 'their', 'scrambling', \"perhaps?'\", 'clean', 'turn;', 'all,', 'day;', 'ones', 'minutes.', 'it;', 'earnestly,', 'not.', 'severity;', 'wasting', \"life!'\", 'tone:', \"asleep,'\", 'loveliest', 'doubt', \"house!'\", 'chimneys', \"manage?'\", 'reality--the', 'eyes.--`tell', 'humbly:', \"thing!'\", 'vegetable.', \"christmas.'\", 'leaves.', 'three', 'royal', 'anywhere', 'though),', \"she,'\", 'edge', 'father', 'continued,', 'tried', 'alice!', 'anything;', 'an', 'also,', 'something;', 'keeping', 'merely', 'piece', 'pencil', 'is--oh', 'passage,', \"business,'\", \"hand,'\", 'sticks', 'thought:', \"before,'\", 'gloomily:', \"is?'\", \"off?'\", 'crocodile', 'soft', 'turned', 'pretending', 'unrolled', 'is--\"the', 'go', 'squeaked.', '`this', 'gave', 'father;', 'baked', 'knave,', 'say.', 'burning', 'wondering', 'spread', 'custody', 'any.', 'sorrowful', 'vanished', 'hearing', 'enough,', \"hat,'\", 'sneeze', 'picked', 'think!', 'besides,', \"`let's\", '`some', 'personal', 'trials,', 'falling', \"now,'\", 'more,', 'bats,', \"`she's\", 'did:', \"slates'll\", 'flurry', 'hurry', \"`there's\", \"down,'\", '`thinking', 'sat', 'calmly,', '`certainly', 'roughly', 'then--she', 'throne', \"something!'\", \"wig.'\", \"`i'm\", 'tell', 'politely:', 'consented', '`--or', 'dreadfully', \"talk!'\", 'remaining', 'can', 'silent.', 'shrimp', 'atom', \"nonsense!'\", 'cat.', \"works!'\", 'dropped', \"ada,'\", 'grass,', 'exactly', 'ornamented', \"part.'\", 'trees', 'ancient', 'reaching', 'hatter', 'pity', 'speak--and', '`--mystery,', \"whatever?'\", 'happy', 'fish-footman', \"home,'\", \"draw,'\", '(luckily', \"grunt,'\", 'guests', \"clever?'\", 'lizard,', 'altogether;', 'know--no', \"ever,'\", '`then,', 'back,', 'frowning', 'yet--and', '(not', 'mouths', 'never', 'advisable', 'court;', 'knee.', 'guinea-pigs,', \"sir,'\", 'became', 'eleventh', 'cook.', 'journey,', 'in:', 'matter', 'along', 'to?', 'duchess.', 'fact.', 'expected:', 'rabbit-hole--and', 'got', 'ring,', 'again.', 'wept', 'airs!', 'highest', 'particular;', 'unless', \"tortoise--'\", 'incessantly', 'thoughtfully:', \"say!'\", 'reach', 'gloves:', 'country', 'eat', \"escape!'\", 'moved', 'sulkily', \"window!'\", 'wants', 'tarts,', 'kitchen', 'slates.', 'same', 'say', \"happens!'\", 'pepper-box', 'day:', 'longed', 'meet', 'forget', \"did!'\", \"me?'\", '`after', 'her;', 'word,', 'porpoise,', 'book', 'been,', 'ran.', 'important', \"important,'\", 'beasts,', \"bird,'\", 'up:', 'them--`i', 'good-bye,', 'several', 'air:', 'little.', 'laughing:', 'knowledge.', 'happens.', 'melancholy', 'quickly', 'dream.', 'commotion', '`or', \"hedge!'\", 'are', \"offended!'\", '`drive', 'strings:', 'two,', 'faster?\"', 'losing', 'paws!', 'turtle;', 'learnt', 'shock', 'no', 'wonder', 'rattling', 'outside.', 'chrysalis--you', 'crying', 'kettle', 'same,', 'soup,', 'hint', 'happens;', \"now.'\", 'wildly', 'whom', 'history', 'march,', 'by--the', 'anger', 'pigs,', \"muchness?'\", 'o', 'purring,', 'feather', 'without', 'trembled', 'stuff?', 'age', 'asked', \"axes,'\", 'stand', 'skurried', 'furious', 'curious,', \"`i'd\", \"didn't\", 'wife;', 'canary', '3.0', 'remarked:', '`with', 'hot', 'severely', 'fishes', 'rabbit;', 'twentieth', 'shakespeare,', 'whiskers!', 'hare', '`--it', \"adventures.'\", 'talking.', 'occasionally;', \"bill!'\", '`ah!', 'me,', 'sorrow,', 'jury', 'beast,', 'white;', 'otherwise', 'millennium', 'chuckled.', 'educations--in', 'lest', 'cheered.', 'high', 'one,', '`dear,', 'rabbit.', '`now', \"case,'\", 'elegant', 'pattern', \"stuff,'\", 'did.', 'nothing', 'queer,', 'this;', 'person,', \"garden!'\", 'suppose,', 'grant', 'move', 'guess,', '\"how', 'insolence', 'or', 'somebody', 'voices', 'hatter;', 'two', 'first.', 'has', 'affectionately', \"finished,'\", \"sell,'\", 'could,', 'nurse--and', 'waistcoat-pocket,', 'high,', 'last,', '`really', 'fallen', 'manners', 'surprise,', \"`once,'\", 'sneezes:', 'unwillingly', \"the--'\", \"wood,'\", 'walk', \"wow!'\", 'tastes!', 'sister,', 'politely,', 'alas', 'out.', 'oblong', '`so', \"outside,'\", 'faces,', 'eyelids,', 'quarrel', 'man,', 'beau--ootiful', \"verses.'\", 'be,', \"behind?'\", 'then?', 'howled', 'thirteen,', 'came,', \"confusing.'\", 'house,', 'once;', 'twelve,', 'knot,', 'beg', 'tail.', 'perhaps', 'hung', 'would', 'grand', 'looking-', \"partners--'\", 'you,\"\\'', \"unimportant--important--'\", 'jurymen.', \"certainly,'\", 'belt', \"know--'\", 'listened,', 'lory,', 'longitude', 'children,', 'lonely', 'back-somersault', 'suddenly', 'us', 'sound.]', 'court.', 'peeping', 'beautiful', 'liked', 'wrong', 'frightened', 'shrill,', 'courage', 'passed;', \"eggs,'\", 'antipathies,', '`chorus', 'wandering', 'livery,', 'common', 'brown,', 'rushed', '\"poison\"', 'earls', 'once.', 'giving', 'showing', 'temper,', 'somewhere', 'reminding', \"`ahem!'\", 'sense', 'consider', 'scream,', 'roof', 'mouse?', 'forgetting', \"dull!'\", 'green,', '`did', 'make', 'stay', 'shingle--will', \"here,'\", 'height.', 'anxious.)', \"king's\", 'mistake;', '`but', 'splashing', 'words,', 'knew)', 'home', 'plan', 'business', 'shrinking', 'undertone', 'certain', \"fig?'\", 'salmon,', \"`alice!'\", 'high).', \"conqueror.'\", 'good-naturedly', '`either', 'returned', 'nice', 'flat,', 'go?\"', 'expecting', 'indignantly,', 'pebbles', 'soup.', 'mine--a', 'eye', 'in', 'let', '(sounds', 'pack,', 'hatter.', 'dig', 'insult', '`o', 'real', 'begins', \"trying.'\", \"where.'\", 'cats:', 'bank--the', 'sounds', 'instantly', \"railway,'\", 'caucus-race', 'nobody', 'rose-tree', 'queens,', \"animal's\", '`poor', 'puzzled', 'seriously,', 'edition', '`wake', 'lie', \"`ugh!'\", 'fur', 'nobody,', 'indeed:--', 'right;', 'banks,', 'size', 'capering', 'already', 'managed', 'inquisitively,', 'continued', \"do.'\", \"these?'\", 'trial', 'head!\"\\'', 'pocket,', 'leaders,', \"'em\", 'kitchen,', 'wore', 'quiet', 'bright-eyed', 'railway', '`one,', \"removed!'\", 'tea,', 'tells', 'hedgehog.', \"jury-box,'\", 'bill', 'cautiously', 'eagerly:', 'court,\"', 'yourself', 'ye;', '(it', 'splashed', 'pink', 'tulip-roots', 'sky.', 'leant', 'accustomed', \"concert!'\", 'hoarsely', '`soles', 'notice', 'fountains,', 'lips.', \"that,'\", 'next.', 'was:', 'altogether', 'between', '`w.', 'shared', 'but,', '`of', 'happened.', 'act', \"couple?'\", 'knife', 'triumphantly,', 'schoolroom,', 'sharks', '`besides,', 'elbows', '`hand', 'relieved', '`tell', 'on.', 'sharply', '*', 'that--only', 'dry', 'thing,', 'avoid', \"ma!'\", 'door:', 'follows', 'depends', 'slates;', \"o'clock\", \"before.'\", 'caught', 'glaring', \"business!'\", \"with,'\", 'mouse-traps,', 'conqueror,', 'till', 'song,', 'was,', 'daisies,', 'birds!', 'violence', 'wait,', \"sort!'\", 'rippling', \"there,'\", 'upsetting', \"minute!'\", 'do:--', 'my', \"d,'\", 'peeped', \"see!'\", 'dears', \"bit!'\", 'wood.', 'queen.', 'hours,', 'fancied', \"temper!'\", 'sight.', 'passage:', 'cards,', 'immense', 'deserved', 'time).', \"doing?'\", \"outside.'\", 'believed', \"present!'\", 'pass', 'handed', \"fashion.'\", 'side,', \"sorrow?'\", 'sir,', 'terribly', \"table,'\", 'party.', 'low-spirited.', 'hurry,', 'hopeful', 'cares', 'search', 'livery', 'that:', 'quadrille,', \"time.'\", 'king.', 'change', 'whose', 'remarking', 'unlocking', 'cost', 'six', 'you.', 'daresay', 'sobs.', 'lovely', 'direction', 'surprised,', \"day.'\", \"alive!'\", 'flower-pot', '\"--said', 'cheered,', '`fury', 'advice,', 'favourite', 'time!', \"bread-knife.'\", \"duchess's\", \"me.'\", 'blame', 'slates,', 'queen', 'crash)--`now,', 'dream', 'cartwheels,', 'duchess:', 'pitied', 'said.', 'race', 'listen,', 'attempt', 'hour', 'checked', 'concert', 'answer.', 'chin.', 'gather', 'room.', 'stupidest', \"they'll\", 'it.)', 'attending', 'terror.', \"true,'\", 'friend.', 'sight', \"fairly,'\", 'sadly', 'executed,', \"`hjckrrh!'\", '`anything', 'little,', 'nursing', 'getting', 'able!', \"dreadful,'\", 'fight', '`the', 'thought.', 'truth:', 'tea-party', \"yourself!'\", 'pray,', 'faces.', 'uglification,', 'fainting', 'night', 'this),', 'arms', 'boon,', 'concluded', 'absence,', 'fulcrum', 'away:', 'jogged', \"never')\", 'court,', 'mouse', \"in?'\", 'certain!', 'sun.', \"rabbit'\", \"`that's\", \"roses?'\", \"below!'\", 'chimney', 'hedgehogs,', 'eyes', 'clasped', 'childhood:', 'arguments', \"porpoise.'\", 'which', 'whiskers,', \"`nonsense!'\", 'bowing', 'somersault', 'fish,', \"is,'\", \"means.'\", 'white', 'belong', 'hair!', \"cakes,'\", 'where', 'just', 'tremble.', 'good', 'alternately', 'memory,', \"you?'\", 'moral', 'well,', 'steady', 'particular--', \"little,'\", 'voice:--', 'land', 'evidence', 'than', 'centre', 'back.', \"puppy's\", 'pigeon,', 'order', 'anything', '`no', \"answers.'\", 'me?', 'least', 'mice', 'plate', 'chorus', 'bread-and-butter,', 'fire-irons', 'shoulders,', 'positively', 'carroll', 'pointing', 'too', 'face.', 'another!', 'sour--and', 'owl,', 'hair.\"', 'shark,', 'good,', 'joined):--', 'replied.', 'tougher', 'opening', 'meat,', \"business?'\", 'mock', 'own', 'ugly', 'below', \"stay!'\", \"marmalade',\", 'viii', 'duck.', 'lobsters', 'never-ending', 'cries', \"together.'\", \"wits!'\", 'soup', 'bark', 'gardeners', 'squeezed', '`nearly', 'ferrets!', 'arm', 'cook,', 'interrupt', 'fumbled', 'loving', 'eager', 'entirely', 'tails', 'finding', '(in', 'appeared,', \"washing?'\", 'labelled', \"won't'\", \"well--'\", 'execute', 'thunderstorm.', 'saw.', 'face', 'pretexts', 'remarks,', 'invitation', 'sides', 'this', 'screaming', 'fair', \"hot-tempered,'\", 'butter', 'dormouse!', 'immediate', 'do:', \"means--to--make--anything--prettier.'\", 'rather', 'extraordinary', \"are,'\", 'case', 'does.', '`--well', 'is--\"birds', \"mind.'\", 'seaside', 'met', 'promise.', 'shelves', 'label,', \"not';\", 'eyes;', \"first!'\", '`can', 'hungry,', 'while,', 'now!', 'worse', 'audibly.', 'eat\"', '(for,', \"dinah!'\", 'arrow.', \"for.'\", 'eagerly', 'flew', 'replied;', 'appeared.', 'secret,', 'beasts', 'listening:', 'guinea-pig', 'buttercup', \"idea,'\", 'down--here,', \"isn't\", \"done,'\", 'eaten', 'slippery;', 'seven', \"mad?'\", \"in.'\", 'shedding', \"rabbit's--`pat!\", 'shrieks,', 'generally', 'fury,', 'downwards,', 'failure.', 'backs', 'mouse--to', 'shake', 'pity!\"?\\'', \"english!'\", 'them--and', '`ou', 'drunk', 'is!', 'out', 'stockings', \"dog's\", \"twinkle--'\", \"throat,'\", 'together:', 'adventures--beginning', 'distance', \"carrier,'\", 'please:', \"refreshments!'\", 'soon', \"doing!'\", 'delight,', 'clubs;', 'piteous', 'towards', 'caterpillar.', 'though,', 'snail.', 'squeeze', 'sleep', 'whole', 'denied,', \"hatter's\", 'teaching', \"you.'\", 'fidgeted.', 'grinned;', 'brushing', 'variations.', '`up,', 'lowing', 'escape;', \"see.'\", \"two!'\", 'ran', 'child;', 'short', 'sleep\"', \"he?'\", 'creature,', 'door,', 'jurymen', 'cat,', 'use,', \"haven't\", 'went', \"`who's\", 'others.', 'rabbit!', 'him--how', \"must,'\", 'voice,', 'so--and', 'escape', 'shouted', 'lose', 'footmen,', 'conversations', 'from:', 'see,', 'other,', 'mushroom,', \"he'd\", 'natural);', \"this?'\", 'caterpillar,', 'appeared;', 'him,', \"up,'\", 'dodged', \"dormouse!'\", 'different', 'another', 'couples:', 'confusing', \"mayn't\", '`silence', '`is', 'summer', 'savage', \"be,'\", 'table', 'yet--oh!', 'serpent;', \"all,'\", 'answer,', 'dinner,', 'air!', \"it,'\", 'minute,', \"youth,'\", 'alice', 'hand,', 'loudly', 'him.', '`it', 'cat!', \"clearly,'\", 'other:', 'cheerfully', 'sure;', 'angrily,', 'climb', 'speech,', 'footman,', 'questions,', 'things!', 'annoy,', 'brush,', 'best,', 'together.\"\\'', 'quadrille', '`mine', 'see--how', \"witness!'\", 'yet', 'better', 'rumbling', 'bad,', 'myself,', \"suppose?'\", 'nor', '(dinah', 'flower-beds', 'bread-and-butter.', 'swimming', 'difficulties,', 'inquired', \"judge,'\", 'seen,', 'drive', 'completely.', 'could', 'mad--at', 'gazing', 'end', 'raising', 'cheshire', 'already,', 'barley-sugar', 'crossly:', 'face,', \"turtle.'\", 'hid', \"really?'\", '`suppose', 'changing', 'wearily.', 'fellows', \"game.'\", 'yet,', 'sight;', 'catching', 'fine', \"way--'\", 'see', 'vulgar', 'drowned', '`really,', 'reason,', 'down!', 'silence,', 'sense,', 'hatter:', 'mad', 'yours.\"\\'', 'voice;', '`does', 'stiff.', \"whiting?'\", \"ann!'\", 'on,', \"game,'\", 'smile.', 'fast', '\"they', 'wonderland,', 'usual,', 'clamour', 'faster,', '`lives', 'bird', 'argument', 'lay', 'tumbling', 'fanning', \"waiting!'\", 'narrow', \"direction,'\", 'officers:', 'queer-looking', \"mushroom,'\", 'patted', '`sentence', 'party', 'playing', 'tea--not', 'thoughts', 'queerest', \"puzzle!'\", 'blasts', \"crumbs,'\", 'least,', 'tops', \"game's\", \"this!'\", \"shorter.'\", 'swim,', 'lost,', 'whispered,', 'shepherd', 'first', 'last', 'over;', 'glass', '\"edwin', 'chin', 'well', 'know,', '(and,', 'think,', \"`we're\", \"yet.'\", \"dormouse's\", \"spot.'\", '\"who', 'down.', 'hearing.', 'ground,', 'well!', 'thing', '`same', 'shaking', 'bats?', 'red-hot', 'kissed', 'box--', 'camomile', 'give', 'repeat', 'particular', 'busy', 'beating', 'it),', 'walk!\"', 'proved', 'eaglet,', \"they've\", \"majesty,'\", 'liked,', 'choice,', 'marked,', 'there.', 'puppy', 'them.', 'do', 'we', 'something,', \"what?'\", \"toes?'\", 'comfort,', 'eats', 'tillie;', 'said;', \"m--'\", \"i'm\", 'rabbit', 'finish', 'bright', 'cleared', 'moderate.', 'silence:', '\"too', '`cheshire', 'sulky', 'court', 'puzzled.)', 'happening.', 'straightened', 'sharply.', 'bite.', 'youth,', 'pigeon;', 'english.', 'you,', 'afford', \"dinah'll\", '`here!', 'clock', 'puffed', 'known', 'nearer,', '[later', 'trickling', 'fills', 'but', 'read', 'nest.', \"can't\", 'bad', \"`can't\", 'rearing', 'wood', 'frying-pan', '\"keep', 'wings.', \"`--where's\", 'players', 'indignantly.', 'vanished.', \"say?'\", \"think!'\", 'however,', 'twinkle--\"\\'', 'adventures', 'here!', '`right,', 'choosing', 'fly;', '`rule', 'sure!', 'the', 'also', 'hope', \"perhaps,'\", \"from?'\", 'curtsey', 'honour:', 'nose;', '`\"we', \"remedies--'\", 'helped', 'stairs!', 'voice.', 'clear', \"`sixteenth,'\", \"which?'\", 'skirt,', 'odd', 'flying', 'directions,', 'adventures,', 'whiting', \"believe.'\", 'down,', 'shoulders', 'notion', 'begged', 'complained', 'absurd,', 'lesson', 'executioner', 'suppressed.', \"different!'\", \"ears--'\", \"then,'\", 'which),', 'flown', \"on!'\", 'choking', 'pretty', 'tortoise', 'live.', 'join', 'here', 'now--but', 'once:', 'everything', 'angrily.', '(when', 'foot.', 'hall', 'emphasis,', 'either', \"plan!'\", 'tricks', 'them,', 'sent', 'learn!', \"tale!'\", 'stuff', 'go!', 'five', 'side.', 'ground--and', 'myself', '`fetch', 'afore', \"`moral,'\", 'listening,', 'nothing,', 'lives.', 'thanked', 'plates,', 'side', 'reason', 'beak--', \"throat!'\", 'delightful', \"twice--'\", 'treat.', 'smiling', '`my', 'loose', \"much!'\", 'things,', 'daughter', 'interrupted,', 'tears.', 'at!\"', 'cackled', 'dear', 'hundred', 'will', 'grave', 'pat,', \"answer?'\", 'queer-', 'seaography:', 'dancing', \"find?'\", 'trouble', 'song.', 'alive', 'book,', 'closer', 'proud', \"time?'\", 'bowed,', '\"coming', 'dear:', \"remember,'\", 'speed', 'flustered', 'mouths;', 'in.', 'witness', 'sign', \"subject,'\", 'mouse.', 'grin,', 'enough', \"curiouser!'\", 'stoop?', 'over,', 'growled', 'patience', 'it--once', 'nodded.', '`consider,', 'begin', 'hedgehog,', 'telescope!', 'ointment--one', 'shillings', 'each', 'upon', '(which', 'rising', \"prizes!'\", 'flappers,', 'question,', 'comfits,', \"time!'\", 'safe', \"jaws!'\", 'guests,', 'rose', 'croquet-ground', 'it.', \"toes.'\", 'edgar', \"ask.'\", \"lessons?'\", 'lasted.)', 'crowd', 'any', 'change:', 'mentioned', 'offended.', \"knocking,'\", 'remarked', 'larger,', 'yards', \"honour!'\", 'sizes', 'mine,', 'please', 'read:--', \"guinea-pigs!'\", 'sneezing', 'desperately:', 'him;', 'pause.', 'pleaded', \"one's\", \"be!'\", 'overhead;', 'grown', 'courage,', \"dogs.'\", 'find', 'head,', 'furrow', 'shyly,', 'splash!', 'mournful', 'hollow', 'pennyworth', 'interrupted.', 'spectacles.', '`but,', 'foolish', '`than', 'burn', \"footman's\", 'interesting.', 'washing', 'life.', 'extremely', 'sisters--they', 'canvas', 'addressed', 'slowly', '`--so', 'bottle,', \"off,'\", 'knuckles.', 'patiently', 'upset,', 'low.', \"don't!'\", 'hall;', \"begin.'\", \"on.'\", 'nearer', \"moment!'\", 'cup', 'cook', 'hoarse', 'forgot', 'seven.', 'tide', 'accident', 'fat;', 'throwing', \"so,'\", 'grand,', 'twenty-four', 'flinging', \"to?'\", 'beat', 'asking,', \"speak?'\", 'nibbling', \"i'll\", 'hedgehog', 'milk', 'existence;', 'pause:', 'snout', 'parchment', 'more;', '`--you', '`we', 'listen.', \"wouldn't\", 'left', 'appear,', 'cannot', 'i,', 'proposal.', 'position', 'angry', 'louder', 'for?\"\\'', 'kiss', 'fly,', 'asking', 'age,', \"enough!'\", 'refused', 'pool', '`not', 'love).', 'remember', 'recovered', \"said--'\", 'noises,', 'contemptuous', 'wish', 'guard', 'shower', \"dormouse,'\", 'law,', 'jaw,', 'rises', 'lost', 'tidy', 'king', 'nothing;', 'speaking', 'stole', \"teases.'\", 'fitted!', \"day,'\", 'angrily:', 'guinea-pigs', 'is--\"take', 'content', 'minded', 'awfully', 'fright', 'mind', 'irritated', 'furiously,', 'cut', \"think?'\", '`yes,', 'race-course,', 'glass;', 'away,', 'off.', 'to,', 'remembering', 'present--', 'seem', '`no,', 'if', 'heels', 'toast,)', 'unusually', 'threw', 'breathe', 'picking', 'to', \"cats!'\", 'eye,', \"crumbs.'\", 'idea', 'found:', \"baby?'\", 'means,', 'dear!', 'thought;', \"instead!'\", 'cross-examine', \"right?'\", \"altered.'\", 'purple.', '--but', 'interesting', 'surprise', \"won't\", 'itself.', \"enough.'\", \"procession,'\", '`perhaps', \"said,'\", \"it?'\", \"dinner!'\", 'violently,', 'conquest.', '`just', \"yourself.'\", 'child:', 'impatiently;', 'heavy', 'declare,', 'yours', '`whenever', 'eaglet.', '`sure', 'sentence', 'beloved', 'hare,', 'it,)', 'disappointment', 'grief,', \"`creatures,'\", 'crashed', 'out.\"', \"do?'\", 'month', 'outside,', \"`i'll\", 'mischief,', 'own.', 'send', 'lessen', \"`you!'\", 'soup,\"', 'grins', 'began:', 'about', 'solid', 'long;', \"pardon!'\", 'twelve?', \"mystery,'\", 'fits,', 'looking', 'trees,', \"alone!'\", 'child-life,', 'before', 'what?', 'presented', 'ever;', 'ago', \"savage!'\", 'muscular', 'end!', 'something', 'joys,', 'immediately', 'fork', 'friend', 'iii', 'moral,', 'these', 'instance,', 'gryphon;', 'reply', 'soup?', 'pictured', 'lastly,', 'tree.', 'ten', 'mouth;', 'dare', 'there', 'nose.', \"sea.'\", '`--i', 'otherwise,', 'ways', 'lizard)', 'more:', 'inkstand', 'off;', 'altogether.', \"`'tis\", 'shut', 'disobey,', 'canterbury,', 'scroll', 'filled', \"him,'\", 'actually', 'pleasanter', '`back', 'gloves--that', 'poker', 'english);', 'capital', 'denied', 'guessed', \"lizard's\", 'absurd', '\"with', \"rate,'\", 'ashamed', 'unable', 'unjust', '`off', 'adjourn,', 'chanced', 'meant', 'bats', 'branches,', 'slate-pencil,', 'stays', \"`it's--it's\", 'subject!', \"crazy!'\", 'eggs', 'care', 'possible', '`nobody', 'snorting', 'introduced', 'ran;', 'said,)', 'begun', 'hate--c', 'seemed', 'rapidly;', 'peering', 'lasted', 'meal,', 'stupid', 'sadly:--', 'possibly', 'room!', 'breeze', \"`everything's\", 'locked;', 'us!\"\\'', 'behind', \"more!'\", 'considered', 'again;', 'paper.', 'knocking,', \"off.'\", 'unhappy', 'started', \"coils.'\", 'alice.', 'whisper,', 'english', 'humble', 'legs', \"course.'\", 'queen:', 'missed', '\"there', \"me,'\", 'see:', 'pope,', 'sobbing', 'keep,', 'impatient', 'forgotten', 'bag,', 'twinkling', 'do.', 'retire', 'night?', 'muchness--', 'fluttered', 'like,', 'breathe\"!\\'', '`get', \"figure,'\", 'water.', 'different.', 'bother', \"for?'\", 'drop', 'parts', \"sky-rocket!'\", \"people,'\", 'about,', 'rate:', 'remark', 'found', \"sad?'\", 'march--just', 'fender,', 'feet,', 'evening,', 'tie', 'ridiculous', 'leap', 'written', \"them,'\", \"bed!'\", 'messages', 'become', 'little', 'thistle,', 'upright', 'flung', 'yesterday,', 'punching', 'way,', 'fifteen', 'bones', 'kill', 'room', 'weak', '`begin', 'sheep-', 'effect,', \"up.'\", \"`stupid,'\", 'rosetree;', 'diamonds,', 'save', \"`jury-men'\", 'fancy,', 'frog', \"they'd\", 'high.', 'spectacles', 'whiting.', 'hands;', 'nothing.', 'croqueted', 'glass.', 'unpleasant', 'was)', 'histories', \"star-fish,'\", 'is,', 'ear,', '`any', 'tremulous', 'wood,', 'corners:', 'dinah,', 'engraved', 'temper', 'earth!', 'simple', 'rope--will', 'farmer,', 'kick,', 'soo--oop!', 'began,', \"`you're\", 'finished,', 'teacups', 'wrapping', 'week:', 'hide', 'walking', 'off).', 'am!', 'changes', 'years,', 'picture.)', 'key', 'eggs,', \"beginning!'\", 'subjects', 'happen:', \"lesson-books!'\", 'natured,', 'stopped', 'life', 'wags', 'beautiful,', 'over)', 'kitchen.', 'baby,', \"`don't\", 'straightening', 'was', 'frighten', 'said', 'dainties', 'please!', 'twice', 'meekly', 'pieces', 'courage.', 'attended', 'turns,', 'gryphon.', 'smaller,', 'prove', 'end:', 'height', 'fit', 'week', 'interesting,', \"wasn't\", 'riddles.--i', '`mouse', 'seen--everything', 'grin', 'himself', 'farm-yard--while', \"rabbit's\", 'supple', 'talk.', 'through', 'raven', 'fit)', 'lad!--here,', 'hearts', 'about.', 'edwin', \"`you'd\", 'obliged', \"i'd\", '`look', 'trampled', 'like', 'bee,\"', 'nurse', 'doubtful', 'distraction,', \"raw.'\", 'paint', 'dry,', 'uncommon', 'jurors', 'key;', '`whoever', '`--for', 'indeed', 'croquet', 'crawled', 'english,', 'tears', 'indeed,', 'lived', \"yet!'\", \"pig,'\", 'leaning', 'farther', 'boy--and', 'larger:', \"prizes?'\", \"`it's\", 'jury,', 'garden,', \"man.'\", 'fact,', \"is!'\", '`there', 'wig,', 'various', 'carry', 'none', '--the', 'was!', '(pointing', 'plenty', 'chapter', 'turns', 'move.', 'sighing', \"nose';\", 'aloud,', 'fix', \"warning,'\", 'felt', \"do,'\", 'gone,', 'globe', 'planning', 'natural', 'wow!', 'oh'}\n",
            "Average sentence length: 10.1\n",
            "Vocabulary diversity: 0.1860\n"
          ]
        }
      ],
      "source": [
        "def assess_data_quality(texts):\n",
        "    \"\"\"Analyze text data quality for Word2Vec training\"\"\"\n",
        "\n",
        "    stats = {\n",
        "        'total_documents': len(texts),\n",
        "        'total_words': 0,\n",
        "        'unique_words': set(),\n",
        "        'sentence_lengths': [],\n",
        "        'word_frequencies': {}\n",
        "    }\n",
        "\n",
        "    for text in texts:\n",
        "        words = text.lower().split()\n",
        "        stats['total_words'] += len(words)\n",
        "        stats['sentence_lengths'].append(len(words))\n",
        "        stats['unique_words'].update(words)\n",
        "\n",
        "        for word in words:\n",
        "            stats['word_frequencies'][word] = stats['word_frequencies'].get(word, 0) + 1\n",
        "\n",
        "    stats['vocabulary_size'] = len(stats['unique_words'])\n",
        "    stats['avg_sentence_length'] = sum(stats['sentence_lengths']) / len(stats['sentence_lengths'])\n",
        "\n",
        "    # Find most common words\n",
        "    sorted_words = sorted(stats['word_frequencies'].items(), key=lambda x: x[1], reverse=True)\n",
        "    stats['top_words'] = sorted_words[:20]\n",
        "\n",
        "    # Quality indicators\n",
        "    stats['quality_score'] = {\n",
        "        'vocabulary_diversity': stats['vocabulary_size'] / stats['total_words'],\n",
        "        'avg_word_frequency': stats['total_words'] / stats['vocabulary_size'],\n",
        "        'rare_words_ratio': sum(1 for count in stats['word_frequencies'].values() if count == 1) / stats['vocabulary_size']\n",
        "    }\n",
        "\n",
        "    return stats\n",
        "\n",
        "# Example usage\n",
        "quality_report = assess_data_quality(texts)\n",
        "print(f\"Total documents: {quality_report['total_documents']:,}\")\n",
        "print(f\"Vocabulary size: {quality_report['vocabulary_size']:,}\")\n",
        "print(f\"Unique Words: {quality_report['unique_words']}\")\n",
        "print(f\"Average sentence length: {quality_report['avg_sentence_length']:.1f}\")\n",
        "print(f\"Vocabulary diversity: {quality_report['quality_score']['vocabulary_diversity']:.4f}\")"
      ]
    },
    {
      "cell_type": "markdown",
      "metadata": {
        "id": "TorHaQBeLjQV"
      },
      "source": [
        "# NLP Libraries"
      ]
    },
    {
      "cell_type": "code",
      "execution_count": 58,
      "metadata": {
        "id": "_vMk72fqLovh"
      },
      "outputs": [],
      "source": [
        "import nltk\n",
        "from nltk.corpus import stopwords\n",
        "from nltk.tokenize import word_tokenize, sent_tokenize\n",
        "from nltk.stem import WordNetLemmatizer\n",
        "from nltk.tag import pos_tag\n",
        "# Gensim for Word2Vec\n",
        "from gensim.models import Word2Vec\n",
        "from gensim.models.callbacks import CallbackAny2Vec\n",
        "import gensim.downloader as ap\n"
      ]
    },
    {
      "cell_type": "markdown",
      "metadata": {
        "id": "3KZJR8XGRF_0"
      },
      "source": [
        "### Text Preprocessing"
      ]
    },
    {
      "cell_type": "markdown",
      "metadata": {
        "id": "BAtpnF0IXIcu"
      },
      "source": [
        "The AdvancedTextPreprocessor class is designed to clean and tokenize text for NLP tasks like Word2Vec training. It can:\n",
        "\n",
        "- Remove URLs, emails, punctuation, numbers, and optionally stopwords.\n",
        "\n",
        "- Convert text to lowercase.\n",
        "\n",
        "- Tokenize text into sentences or words.\n",
        "\n",
        "- Optionally lemmatize words.\n",
        "\n",
        "- Filter words based on length.\n",
        "\n",
        "**The preprocess_corpus** method processes a list of texts into cleaned, tokenized sentences or words."
      ]
    },
    {
      "cell_type": "code",
      "execution_count": 188,
      "metadata": {
        "id": "28gi_dIxuV9Y"
      },
      "outputs": [],
      "source": [
        "class AdvancedTextPreprocessor:\n",
        "    \"\"\"Comprehensive text preprocessing for Word2Vec training\"\"\"\n",
        "\n",
        "    def __init__(self,\n",
        "                 lowercase=True,\n",
        "                 remove_punctuation=True,\n",
        "                 remove_numbers=False,\n",
        "                 remove_stopwords=False,\n",
        "                 min_word_length=2,\n",
        "                 max_word_length=50,\n",
        "                 lemmatize=False,\n",
        "                 remove_urls=True,\n",
        "                 remove_emails=True,\n",
        "                 keep_sentences=True):\n",
        "\n",
        "        self.lowercase = lowercase\n",
        "        self.remove_punctuation = remove_punctuation\n",
        "        self.remove_numbers = remove_numbers\n",
        "        self.remove_stopwords = remove_stopwords\n",
        "        self.min_word_length = min_word_length\n",
        "        self.max_word_length = max_word_length\n",
        "        self.lemmatize = lemmatize\n",
        "        self.remove_urls = remove_urls\n",
        "        self.remove_emails = remove_emails\n",
        "        self.keep_sentences = keep_sentences\n",
        "\n",
        "        if remove_stopwords:\n",
        "            self.stop_words = set(stopwords.words('english'))\n",
        "\n",
        "        if lemmatize:\n",
        "            self.lemmatizer = WordNetLemmatizer()\n",
        "\n",
        "    def clean_text(self, text):\n",
        "        \"\"\"Clean individual text string\"\"\"\n",
        "\n",
        "        # Remove URLs\n",
        "        if self.remove_urls:\n",
        "            text = re.sub(r'http\\S+|www\\S+|https\\S+', '', text, flags=re.MULTILINE)\n",
        "\n",
        "        # Remove email addresses\n",
        "        if self.remove_emails:\n",
        "            text = re.sub(r'\\S+@\\S+', '', text)\n",
        "\n",
        "        # Remove extra whitespace\n",
        "        text = re.sub(r'\\s+', ' ', text).strip()\n",
        "\n",
        "        #Combined\n",
        "         #(r'https?://\\S+|www\\.\\S+|<.*?>|\\S+@\\S+\\.\\S+|@\\w+|#\\w+|[^A-Za-z0-9\\s])\n",
        "\n",
        "        return text\n",
        "\n",
        "    def tokenize_text(self, text):\n",
        "        \"\"\"Tokenize text into sentences or words\"\"\"\n",
        "\n",
        "        if self.keep_sentences:\n",
        "            # Tokenize into sentences first\n",
        "            sentences = sent_tokenize(text)\n",
        "            processed_sentences = []\n",
        "\n",
        "            for sentence in sentences:\n",
        "                words = self.process_sentence(sentence)\n",
        "                if len(words) >= 3:  # Keep sentences with at least 3 words\n",
        "                    processed_sentences.append(words)\n",
        "\n",
        "            return processed_sentences\n",
        "        else:\n",
        "            # Return single list of words\n",
        "            return self.process_sentence(text)\n",
        "\n",
        "    def process_sentence(self, sentence):\n",
        "        \"\"\"Process individual sentence\"\"\"\n",
        "\n",
        "        # Lowercase\n",
        "        if self.lowercase:\n",
        "            sentence = sentence.lower()\n",
        "\n",
        "        # Tokenize into words\n",
        "        words = word_tokenize(sentence)\n",
        "\n",
        "        processed_words = []\n",
        "        for word in words:\n",
        "\n",
        "            # Remove punctuation\n",
        "            if self.remove_punctuation:\n",
        "                word = word.translate(str.maketrans('', '', string.punctuation))\n",
        "\n",
        "            # Skip if empty after punctuation removal\n",
        "            if not word:\n",
        "                continue\n",
        "\n",
        "            # Remove numbers\n",
        "            if self.remove_numbers and word.isdigit():\n",
        "                continue\n",
        "\n",
        "            # Check word length\n",
        "            if len(word) < self.min_word_length or len(word) > self.max_word_length:\n",
        "                continue\n",
        "\n",
        "            # Remove stopwords\n",
        "            if self.remove_stopwords and word in self.stop_words:\n",
        "                continue\n",
        "\n",
        "            # Lemmatize\n",
        "            if self.lemmatize:\n",
        "                word = self.lemmatizer.lemmatize(word)\n",
        "\n",
        "            processed_words.append(word)\n",
        "\n",
        "        return processed_words\n",
        "\n",
        "    def preprocess_corpus(self, texts):\n",
        "        \"\"\"Preprocess entire corpus\"\"\"\n",
        "\n",
        "        all_sentences = []\n",
        "\n",
        "        for text in texts:\n",
        "            if not isinstance(text, str):\n",
        "                continue\n",
        "\n",
        "            # Clean text\n",
        "            cleaned_text = self.clean_text(text)\n",
        "\n",
        "            # Tokenize and process\n",
        "            processed = self.tokenize_text(cleaned_text)\n",
        "\n",
        "            if self.keep_sentences:\n",
        "                all_sentences.extend(processed)\n",
        "            else:\n",
        "                all_sentences.append(processed)\n",
        "\n",
        "        return all_sentences"
      ]
    },
    {
      "cell_type": "markdown",
      "metadata": {
        "id": "NoEQLF9EXhzZ"
      },
      "source": [
        "After this,preprocess_corpus(texts) will return a list of tokenized sentences, each being a list of words cleaned according to the settings."
      ]
    },
    {
      "cell_type": "code",
      "execution_count": 189,
      "metadata": {
        "colab": {
          "base_uri": "https://localhost:8080/"
        },
        "id": "aLyoqvIsudcY",
        "outputId": "d89e3b49-ed44-42c0-cf73-6b7a2614d391"
      },
      "outputs": [
        {
          "name": "stdout",
          "output_type": "stream",
          "text": [
            "Processed 2939 sentences\n",
            "Sample sentence: ['\\ufeffalice', 'adventures', 'in', 'wonderland']\n"
          ]
        }
      ],
      "source": [
        "# Example usage\n",
        "preprocessor = AdvancedTextPreprocessor(\n",
        "    lowercase=True,  # Convert all text to lowercase\n",
        "    remove_punctuation = True, # Remove punctuation marks from words\n",
        "    remove_numbers=True, # Remove numeric tokens\n",
        "    remove_stopwords=False,   # Keep stopwords (common words like \"the\", \"and\")\n",
        "    lemmatize=False,   # Do not lemmatize words (reduce them to base form)\n",
        "    keep_sentences=True # Keep text split into sentences rather than a single word list\n",
        ")\n",
        "\n",
        "# Processing corpus\n",
        "processed_sentences = preprocessor.preprocess_corpus(texts)\n",
        "print(f\"Processed {len(processed_sentences)} sentences\")\n",
        "print(f\"Sample sentence: {processed_sentences[0]}\")"
      ]
    },
    {
      "cell_type": "code",
      "execution_count": 191,
      "metadata": {
        "colab": {
          "base_uri": "https://localhost:8080/"
        },
        "id": "eMqQqlo_us1c",
        "outputId": "345fa87c-da5f-41e0-9e8a-b6abbc454936"
      },
      "outputs": [
        {
          "data": {
            "text/plain": [
              "[['\\ufeffalice', 'adventures', 'in', 'wonderland'],\n",
              " ['the', 'millennium', 'fulcrum', 'edition'],\n",
              " ['down', 'the', 'rabbithole']]"
            ]
          },
          "execution_count": 191,
          "metadata": {},
          "output_type": "execute_result"
        }
      ],
      "source": [
        "processed_sentences[:3]"
      ]
    },
    {
      "cell_type": "markdown",
      "metadata": {
        "id": "EWXFd4N3u1Yp"
      },
      "source": [
        "**Training Parameters**"
      ]
    },
    {
      "cell_type": "markdown",
      "metadata": {
        "id": "YYUG84ypvFy7"
      },
      "source": [
        "*Parameter Selection Guidelines*"
      ]
    },
    {
      "cell_type": "markdown",
      "metadata": {
        "id": "F2mzUuKbY5Q1"
      },
      "source": [
        "This function automatically recommends the best Word2Vec parameters based on your dataset and available resources. It adjusts the vector size according to :\n",
        "\n",
        "- the size of the corpus\n",
        "- chooses an appropriate window size\n",
        "- sets a minimum word frequency threshold so that rare words are handled properly.\n",
        "\n",
        "\n",
        "The function also selects between **Skip-gram** and **CBOW** depending on the domain, assigns a suitable number of training epochs based on both corpus size and computing power, and decides whether to use hierarchical softmax or negative sampling depending on the vocabulary size."
      ]
    },
    {
      "cell_type": "code",
      "execution_count": 190,
      "metadata": {
        "id": "cJebRj-7uxsm"
      },
      "outputs": [],
      "source": [
        "def recommend_parameters(corpus_size, vocab_size, domain_type, computing_resources):\n",
        "    \"\"\"\n",
        "    Recommend Word2Vec parameters based on corpus characteristics\n",
        "\n",
        "    Args:\n",
        "        corpus_size: Number of sentences/documents\n",
        "        vocab_size: Unique words in vocabulary\n",
        "        domain_type: 'general', 'technical', 'social_media', 'academic'\n",
        "        computing_resources: 'limited', 'moderate', 'high'\n",
        "    \"\"\"\n",
        "\n",
        "    recommendations = {}\n",
        "\n",
        "    # Vector size based on corpus and vocab size\n",
        "    if corpus_size < 10000:\n",
        "        recommendations['vector_size'] = 50\n",
        "    elif corpus_size < 100000:\n",
        "        recommendations['vector_size'] = 100\n",
        "    elif corpus_size < 1000000:\n",
        "        recommendations['vector_size'] = 200\n",
        "    else:\n",
        "        recommendations['vector_size'] = 300\n",
        "\n",
        "    # Window size based on domain\n",
        "    domain_windows = {\n",
        "        'general': 5,\n",
        "        'technical': 3,  # More syntactic focus\n",
        "        'social_media': 4,\n",
        "        'academic': 6    # More semantic focus\n",
        "    }\n",
        "    recommendations['window'] = domain_windows.get(domain_type, 5)\n",
        "\n",
        "    # Min count based on corpus size\n",
        "    if corpus_size < 10000:\n",
        "        recommendations['min_count'] = 1\n",
        "    elif corpus_size < 100000:\n",
        "        recommendations['min_count'] = 2\n",
        "    elif corpus_size < 1000000:\n",
        "        recommendations['min_count'] = 5\n",
        "    else:\n",
        "        recommendations['min_count'] = 10\n",
        "\n",
        "    # Algorithm selection\n",
        "    if domain_type in ['technical', 'academic']:\n",
        "        recommendations['sg'] = 1  # Skip-gram for rare technical terms\n",
        "    else:\n",
        "        recommendations['sg'] = 0  # CBOW for general text\n",
        "\n",
        "    # Epochs based on corpus size and resources\n",
        "    if computing_resources == 'limited':\n",
        "        recommendations['epochs'] = 5\n",
        "    elif corpus_size < 100000:\n",
        "        recommendations['epochs'] = 15\n",
        "    else:\n",
        "        recommendations['epochs'] = 10\n",
        "\n",
        "    # Hierarchical softmax vs negative sampling\n",
        "    if vocab_size > 100000:\n",
        "        recommendations['hs'] = 1\n",
        "        recommendations['negative'] = 0\n",
        "    else:\n",
        "        recommendations['hs'] = 0\n",
        "        recommendations['negative'] = 10\n",
        "\n",
        "    return recommendations"
      ]
    },
    {
      "cell_type": "markdown",
      "metadata": {
        "id": "N2ZsA3H4Z-UG"
      },
      "source": [
        "The code calculates the corpus size by taking the length of the list of processed sentences. It then creates a set of all unique words across those sentences to determine the vocabulary size."
      ]
    },
    {
      "cell_type": "code",
      "execution_count": 192,
      "metadata": {
        "colab": {
          "base_uri": "https://localhost:8080/"
        },
        "id": "oxFqPic5vJ-O",
        "outputId": "fc6ab6cf-c6ab-427d-a23c-6d39d30d60e7"
      },
      "outputs": [
        {
          "name": "stdout",
          "output_type": "stream",
          "text": [
            "Corpus Size: 2939\n",
            "Vocabulary Size: 2520\n"
          ]
        }
      ],
      "source": [
        "corpus_size = len(processed_sentences)\n",
        "print(f\"Corpus Size: {corpus_size}\")\n",
        "\n",
        "# Calculate vocabulary size (unique words in vocabulary)\n",
        "vocab = set(word for sentence in processed_sentences for word in sentence)\n",
        "vocab_size = len(vocab)\n",
        "print(f\"Vocabulary Size: {vocab_size}\")"
      ]
    },
    {
      "cell_type": "code",
      "execution_count": 193,
      "metadata": {
        "colab": {
          "base_uri": "https://localhost:8080/"
        },
        "id": "1P6cV9_KvMc1",
        "outputId": "41c080ee-11bd-4c93-f29b-3f7b06c9ea04"
      },
      "outputs": [
        {
          "name": "stdout",
          "output_type": "stream",
          "text": [
            "Recommended parameters: {'vector_size': 50, 'window': 5, 'min_count': 1, 'sg': 0, 'epochs': 15, 'hs': 0, 'negative': 10}\n"
          ]
        }
      ],
      "source": [
        "# Call the function to get recommended parameters based on dataset and resources\n",
        "params = recommend_parameters(\n",
        "    corpus_size=corpus_size,  # total number of sentences in the dataset\n",
        "    vocab_size=vocab_size, # total number of unique words in the dataset\n",
        "    domain_type='general', # domain type\n",
        "    computing_resources='moderate' # available computing resources\n",
        ")\n",
        "print(\"Recommended parameters:\", params) # Print out the recommended parameters"
      ]
    },
    {
      "cell_type": "markdown",
      "metadata": {
        "id": "dJP0MKccvqLQ"
      },
      "source": [
        "**Step-by-Step Implementation**"
      ]
    },
    {
      "cell_type": "markdown",
      "metadata": {
        "id": "XKcvDNV6v1ZN"
      },
      "source": [
        "*Basic Training Implementation*"
      ]
    },
    {
      "cell_type": "markdown",
      "metadata": {
        "id": "gVANlYKKax9Q"
      },
      "source": [
        "This code trains a Word2Vec model and shows training progress. It logs each epoch, uses default parameters that can be changed, and saves the model if needed.\n",
        "\n",
        "How it works:\n",
        "\n",
        "- The EpochLogger prints the start and end of each epoch with time taken.\n",
        "-  Default parameters like vector size, window, min count, epochs, and algorithm type are set but can be updated.\n",
        "-  The model is trained on the given tokenized sentences, and the vocabulary size is printed after training.\n"
      ]
    },
    {
      "cell_type": "code",
      "execution_count": 194,
      "metadata": {
        "id": "psxsPOI8vO3r"
      },
      "outputs": [],
      "source": [
        "from gensim.models import Word2Vec\n",
        "from gensim.models.callbacks import CallbackAny2Vec\n",
        "import time\n",
        "import multiprocessing\n",
        "\n",
        "class EpochLogger(CallbackAny2Vec):\n",
        "    \"\"\"Callback to log information about training progress\"\"\"\n",
        "\n",
        "    def __init__(self):\n",
        "        self.epoch = 0\n",
        "        self.start_time = time.time()\n",
        "\n",
        "    def on_epoch_begin(self, model):\n",
        "        print(f\"Epoch #{self.epoch} start\")\n",
        "\n",
        "    def on_epoch_end(self, model):\n",
        "        elapsed = time.time() - self.start_time\n",
        "        print(f\"Epoch #{self.epoch} end - Time elapsed: {elapsed:.2f}s\")\n",
        "        self.epoch += 1\n",
        "\n",
        "def train_word2vec_model(sentences, save_path=None, **params):\n",
        "    \"\"\"\n",
        "    Train Word2Vec model with given parameters\n",
        "\n",
        "    Args:\n",
        "        sentences: List of tokenized sentences\n",
        "        save_path: Path to save the model\n",
        "        **params: Word2Vec parameters\n",
        "    \"\"\"\n",
        "\n",
        "    # Set default parameters\n",
        "    default_params = {\n",
        "        'vector_size': 100,\n",
        "        'window': 5,\n",
        "        'min_count': 5,\n",
        "        'workers': multiprocessing.cpu_count() - 1,\n",
        "        'sg': 0,  # CBOW\n",
        "        'epochs': 10,\n",
        "        'alpha': 0.025,\n",
        "        'min_alpha': 0.0001,\n",
        "        'hs': 0,\n",
        "        'negative': 10\n",
        "    }\n",
        "\n",
        "    # Update with provided parameters\n",
        "    default_params.update(params)\n",
        "\n",
        "    print(\"Training Word2Vec model with parameters:\")\n",
        "    for key, value in default_params.items():\n",
        "        print(f\"  {key}: {value}\")\n",
        "\n",
        "    # Add callback for progress monitoring\n",
        "    epoch_logger = EpochLogger()\n",
        "\n",
        "    # Train the model\n",
        "    print(f\"\\nTraining on {len(sentences)} sentences...\")\n",
        "    start_time = time.time()\n",
        "\n",
        "    model = Word2Vec(\n",
        "        sentences=sentences,\n",
        "        callbacks=[epoch_logger],\n",
        "        **default_params\n",
        "    )\n",
        "\n",
        "    training_time = time.time() - start_time\n",
        "    print(f\"\\nTraining completed in {training_time:.2f} seconds\")\n",
        "    print(f\"Vocabulary size: {len(model.wv)} words\")\n",
        "\n",
        "    # Save model if path provided\n",
        "    if save_path:\n",
        "        model.save(save_path)\n",
        "        print(f\"Model saved to {save_path}\")\n",
        "\n",
        "    return model"
      ]
    },
    {
      "cell_type": "markdown",
      "metadata": {
        "id": "SsWBjbBjbc_U"
      },
      "source": [
        "Trains two Word2Vec models on the processed sentences: one using CBOW and the other using Skip-gram, each model is saved to a separate file after training.\n",
        "\n",
        "- model_cbow is trained with CBOW (sg=0) and saved as alice_cbow_model.model.\n",
        "- model_skipgram is trained with Skip-gram (sg=1) and saved as alice_skipgram_model.model.\n",
        "\n",
        "Both models use the same sentences and hyperparameters except for the training algorithm."
      ]
    },
    {
      "cell_type": "code",
      "execution_count": 228,
      "metadata": {
        "colab": {
          "base_uri": "https://localhost:8080/"
        },
        "id": "z6OvKzMVv6TV",
        "outputId": "380b0136-59b0-4ba9-bd90-5b81a9aeb4b9"
      },
      "outputs": [
        {
          "name": "stdout",
          "output_type": "stream",
          "text": [
            "Training Word2Vec model with parameters:\n",
            "  vector_size: 150\n",
            "  window: 8\n",
            "  min_count: 1\n",
            "  workers: 1\n",
            "  sg: 0\n",
            "  epochs: 50\n",
            "  alpha: 0.025\n",
            "  min_alpha: 0.0001\n",
            "  hs: 0\n",
            "  negative: 10\n",
            "\n",
            "Training on 2939 sentences...\n",
            "Epoch #0 start\n",
            "Epoch #0 end - Time elapsed: 0.12s\n",
            "Epoch #1 start\n",
            "Epoch #1 end - Time elapsed: 0.20s\n",
            "Epoch #2 start\n",
            "Epoch #2 end - Time elapsed: 0.28s\n",
            "Epoch #3 start\n",
            "Epoch #3 end - Time elapsed: 0.35s\n",
            "Epoch #4 start\n",
            "Epoch #4 end - Time elapsed: 0.44s\n",
            "Epoch #5 start\n",
            "Epoch #5 end - Time elapsed: 0.52s\n",
            "Epoch #6 start\n",
            "Epoch #6 end - Time elapsed: 0.59s\n",
            "Epoch #7 start\n",
            "Epoch #7 end - Time elapsed: 0.67s\n",
            "Epoch #8 start\n",
            "Epoch #8 end - Time elapsed: 0.74s\n",
            "Epoch #9 start\n",
            "Epoch #9 end - Time elapsed: 0.82s\n",
            "Epoch #10 start\n",
            "Epoch #10 end - Time elapsed: 0.89s\n",
            "Epoch #11 start\n",
            "Epoch #11 end - Time elapsed: 0.97s\n",
            "Epoch #12 start\n",
            "Epoch #12 end - Time elapsed: 1.04s\n",
            "Epoch #13 start\n",
            "Epoch #13 end - Time elapsed: 1.11s\n",
            "Epoch #14 start\n",
            "Epoch #14 end - Time elapsed: 1.19s\n",
            "Epoch #15 start\n",
            "Epoch #15 end - Time elapsed: 1.26s\n",
            "Epoch #16 start\n",
            "Epoch #16 end - Time elapsed: 1.34s\n",
            "Epoch #17 start\n",
            "Epoch #17 end - Time elapsed: 1.41s\n",
            "Epoch #18 start\n",
            "Epoch #18 end - Time elapsed: 1.50s\n",
            "Epoch #19 start\n",
            "Epoch #19 end - Time elapsed: 1.58s\n",
            "Epoch #20 start\n",
            "Epoch #20 end - Time elapsed: 1.65s\n",
            "Epoch #21 start\n",
            "Epoch #21 end - Time elapsed: 1.72s\n",
            "Epoch #22 start\n",
            "Epoch #22 end - Time elapsed: 1.80s\n",
            "Epoch #23 start\n",
            "Epoch #23 end - Time elapsed: 1.87s\n",
            "Epoch #24 start\n",
            "Epoch #24 end - Time elapsed: 1.95s\n",
            "Epoch #25 start\n",
            "Epoch #25 end - Time elapsed: 2.02s\n",
            "Epoch #26 start\n",
            "Epoch #26 end - Time elapsed: 2.09s\n",
            "Epoch #27 start\n",
            "Epoch #27 end - Time elapsed: 2.17s\n",
            "Epoch #28 start\n",
            "Epoch #28 end - Time elapsed: 2.24s\n",
            "Epoch #29 start\n",
            "Epoch #29 end - Time elapsed: 2.31s\n",
            "Epoch #30 start\n",
            "Epoch #30 end - Time elapsed: 2.39s\n",
            "Epoch #31 start\n",
            "Epoch #31 end - Time elapsed: 2.46s\n",
            "Epoch #32 start\n",
            "Epoch #32 end - Time elapsed: 2.55s\n",
            "Epoch #33 start\n",
            "Epoch #33 end - Time elapsed: 2.62s\n",
            "Epoch #34 start\n",
            "Epoch #34 end - Time elapsed: 2.70s\n",
            "Epoch #35 start\n",
            "Epoch #35 end - Time elapsed: 2.77s\n",
            "Epoch #36 start\n",
            "Epoch #36 end - Time elapsed: 2.85s\n",
            "Epoch #37 start\n",
            "Epoch #37 end - Time elapsed: 2.92s\n",
            "Epoch #38 start\n",
            "Epoch #38 end - Time elapsed: 2.99s\n",
            "Epoch #39 start\n",
            "Epoch #39 end - Time elapsed: 3.07s\n",
            "Epoch #40 start\n",
            "Epoch #40 end - Time elapsed: 3.14s\n",
            "Epoch #41 start\n",
            "Epoch #41 end - Time elapsed: 3.21s\n",
            "Epoch #42 start\n",
            "Epoch #42 end - Time elapsed: 3.29s\n",
            "Epoch #43 start\n",
            "Epoch #43 end - Time elapsed: 3.36s\n",
            "Epoch #44 start\n",
            "Epoch #44 end - Time elapsed: 3.43s\n",
            "Epoch #45 start\n",
            "Epoch #45 end - Time elapsed: 3.51s\n",
            "Epoch #46 start\n",
            "Epoch #46 end - Time elapsed: 3.60s\n",
            "Epoch #47 start\n",
            "Epoch #47 end - Time elapsed: 3.67s\n",
            "Epoch #48 start\n",
            "Epoch #48 end - Time elapsed: 3.74s\n",
            "Epoch #49 start\n",
            "Epoch #49 end - Time elapsed: 3.82s\n",
            "\n",
            "Training completed in 3.82 seconds\n",
            "Vocabulary size: 2520 words\n",
            "Model saved to alice_cbow_model.model\n",
            "Training Word2Vec model with parameters:\n",
            "  vector_size: 150\n",
            "  window: 8\n",
            "  min_count: 1\n",
            "  workers: 1\n",
            "  sg: 1\n",
            "  epochs: 50\n",
            "  alpha: 0.025\n",
            "  min_alpha: 0.0001\n",
            "  hs: 0\n",
            "  negative: 10\n",
            "\n",
            "Training on 2939 sentences...\n",
            "Epoch #0 start\n",
            "Epoch #0 end - Time elapsed: 0.29s\n",
            "Epoch #1 start\n",
            "Epoch #1 end - Time elapsed: 0.54s\n",
            "Epoch #2 start\n",
            "Epoch #2 end - Time elapsed: 0.80s\n",
            "Epoch #3 start\n",
            "Epoch #3 end - Time elapsed: 1.04s\n",
            "Epoch #4 start\n",
            "Epoch #4 end - Time elapsed: 1.28s\n",
            "Epoch #5 start\n",
            "Epoch #5 end - Time elapsed: 1.53s\n",
            "Epoch #6 start\n",
            "Epoch #6 end - Time elapsed: 1.78s\n",
            "Epoch #7 start\n",
            "Epoch #7 end - Time elapsed: 2.03s\n",
            "Epoch #8 start\n",
            "Epoch #8 end - Time elapsed: 2.27s\n",
            "Epoch #9 start\n",
            "Epoch #9 end - Time elapsed: 2.62s\n",
            "Epoch #10 start\n",
            "Epoch #10 end - Time elapsed: 3.02s\n",
            "Epoch #11 start\n",
            "Epoch #11 end - Time elapsed: 3.39s\n",
            "Epoch #12 start\n",
            "Epoch #12 end - Time elapsed: 3.77s\n",
            "Epoch #13 start\n",
            "Epoch #13 end - Time elapsed: 4.15s\n",
            "Epoch #14 start\n",
            "Epoch #14 end - Time elapsed: 4.51s\n",
            "Epoch #15 start\n",
            "Epoch #15 end - Time elapsed: 4.89s\n",
            "Epoch #16 start\n",
            "Epoch #16 end - Time elapsed: 5.28s\n",
            "Epoch #17 start\n",
            "Epoch #17 end - Time elapsed: 5.64s\n",
            "Epoch #18 start\n",
            "Epoch #18 end - Time elapsed: 6.02s\n",
            "Epoch #19 start\n",
            "Epoch #19 end - Time elapsed: 6.42s\n",
            "Epoch #20 start\n",
            "Epoch #20 end - Time elapsed: 6.86s\n",
            "Epoch #21 start\n",
            "Epoch #21 end - Time elapsed: 7.15s\n",
            "Epoch #22 start\n",
            "Epoch #22 end - Time elapsed: 7.43s\n",
            "Epoch #23 start\n",
            "Epoch #23 end - Time elapsed: 7.67s\n",
            "Epoch #24 start\n",
            "Epoch #24 end - Time elapsed: 7.92s\n",
            "Epoch #25 start\n",
            "Epoch #25 end - Time elapsed: 8.16s\n",
            "Epoch #26 start\n",
            "Epoch #26 end - Time elapsed: 8.42s\n",
            "Epoch #27 start\n",
            "Epoch #27 end - Time elapsed: 8.66s\n",
            "Epoch #28 start\n",
            "Epoch #28 end - Time elapsed: 8.91s\n",
            "Epoch #29 start\n",
            "Epoch #29 end - Time elapsed: 9.16s\n",
            "Epoch #30 start\n",
            "Epoch #30 end - Time elapsed: 9.41s\n",
            "Epoch #31 start\n",
            "Epoch #31 end - Time elapsed: 9.66s\n",
            "Epoch #32 start\n",
            "Epoch #32 end - Time elapsed: 9.90s\n",
            "Epoch #33 start\n",
            "Epoch #33 end - Time elapsed: 10.15s\n",
            "Epoch #34 start\n",
            "Epoch #34 end - Time elapsed: 10.41s\n",
            "Epoch #35 start\n",
            "Epoch #35 end - Time elapsed: 10.66s\n",
            "Epoch #36 start\n",
            "Epoch #36 end - Time elapsed: 10.90s\n",
            "Epoch #37 start\n",
            "Epoch #37 end - Time elapsed: 11.14s\n",
            "Epoch #38 start\n",
            "Epoch #38 end - Time elapsed: 11.40s\n",
            "Epoch #39 start\n",
            "Epoch #39 end - Time elapsed: 11.65s\n",
            "Epoch #40 start\n",
            "Epoch #40 end - Time elapsed: 11.89s\n",
            "Epoch #41 start\n",
            "Epoch #41 end - Time elapsed: 12.14s\n",
            "Epoch #42 start\n",
            "Epoch #42 end - Time elapsed: 12.38s\n",
            "Epoch #43 start\n",
            "Epoch #43 end - Time elapsed: 12.72s\n",
            "Epoch #44 start\n",
            "Epoch #44 end - Time elapsed: 13.32s\n",
            "Epoch #45 start\n",
            "Epoch #45 end - Time elapsed: 13.78s\n",
            "Epoch #46 start\n",
            "Epoch #46 end - Time elapsed: 14.29s\n",
            "Epoch #47 start\n",
            "Epoch #47 end - Time elapsed: 15.11s\n",
            "Epoch #48 start\n",
            "Epoch #48 end - Time elapsed: 15.35s\n",
            "Epoch #49 start\n",
            "Epoch #49 end - Time elapsed: 15.62s\n",
            "\n",
            "Training completed in 15.62 seconds\n",
            "Vocabulary size: 2520 words\n",
            "Model saved to alice_skipgram_model.model\n"
          ]
        }
      ],
      "source": [
        "\n",
        "# CBOW Model\n",
        "model_cbow = train_word2vec_model(\n",
        "    sentences=processed_sentences,\n",
        "    save_path='alice_cbow_model.model',\n",
        "    sg=0,  # CBOW\n",
        "    vector_size=150,\n",
        "    window=8,\n",
        "    min_count=1,\n",
        "    epochs=50\n",
        ")\n",
        "\n",
        "# Skip-gram Model\n",
        "model_skipgram = train_word2vec_model(\n",
        "    sentences=processed_sentences,\n",
        "    save_path='alice_skipgram_model.model',\n",
        "    sg=1,  # Skip-gram\n",
        "    vector_size=150,\n",
        "    window=8,\n",
        "    min_count=1,\n",
        "    epochs=50\n",
        ")"
      ]
    },
    {
      "cell_type": "code",
      "execution_count": 217,
      "metadata": {
        "colab": {
          "base_uri": "https://localhost:8080/"
        },
        "id": "MoyqButWv8-s",
        "outputId": "6b3201a6-4e42-42ec-8e94-d65dd57ae76f"
      },
      "outputs": [
        {
          "name": "stdout",
          "output_type": "stream",
          "text": [
            "Vocabulary Size: 2520\n"
          ]
        }
      ],
      "source": [
        "# Get the total number of unique words in the trained model's vocabulary\n",
        "\n",
        "vocab_size = len(model.wv.index_to_key)\n",
        "print(\"Vocabulary Size:\", vocab_size)"
      ]
    },
    {
      "cell_type": "code",
      "execution_count": 218,
      "metadata": {
        "colab": {
          "base_uri": "https://localhost:8080/"
        },
        "id": "zXFL6u-LwEog",
        "outputId": "1adba37a-f66e-4a0c-a894-ac3d799ea994"
      },
      "outputs": [
        {
          "name": "stdout",
          "output_type": "stream",
          "text": [
            "All Words in Vocabulary: ['the', 'and', 'to', 'it', 'she', 'of', 'said', 'you', 'was', 'in']\n"
          ]
        }
      ],
      "source": [
        "all_words = model.wv.index_to_key # Get a list of all words in the vocabulary\n",
        "print(\"All Words in Vocabulary:\", all_words[:10]) # Print the first 10 words from the vocabulary as a sample"
      ]
    },
    {
      "cell_type": "markdown",
      "metadata": {
        "id": "8OHNGvYVwhkQ"
      },
      "source": [
        "**Model Evaluation and Validation**"
      ]
    },
    {
      "cell_type": "markdown",
      "metadata": {
        "id": "omn7JmPmwlYy"
      },
      "source": [
        "*Intrinsic Evaluation Methods*"
      ]
    },
    {
      "cell_type": "markdown",
      "metadata": {
        "id": "9vRnG1pjeWmz"
      },
      "source": [
        "This code defines a class Word2VecEvaluator to evaluate Word2Vec models in different ways. It can check how well the model predicts word similarity, solves analogies, finds the odd word in a group, and covers the vocabulary in test texts. It can also compare the model with another baseline model to see how similar their predictions are.\n",
        "\n",
        "How it works:\n",
        "- Evaluates word similarity using Spearman correlation with human scores.\n",
        "- Tests word analogies and calculates accuracy.\n",
        "- Checks vocabulary coverage on given texts."
      ]
    },
    {
      "cell_type": "code",
      "execution_count": 232,
      "metadata": {
        "id": "FzzTQG8xwilX"
      },
      "outputs": [],
      "source": [
        "import numpy as np\n",
        "from scipy.stats import spearmanr\n",
        "from sklearn.metrics.pairwise import cosine_similarity\n",
        "\n",
        "class Word2VecEvaluator:\n",
        "    \"\"\"Comprehensive evaluation suite for Word2Vec models\"\"\"\n",
        "\n",
        "    def __init__(self, model):\n",
        "        self.model = model\n",
        "        self.wv = model.wv\n",
        "\n",
        "    def evaluate_word_similarity(self, word_pairs_with_scores):\n",
        "        \"\"\"\n",
        "        Evaluate model on word similarity datasets\n",
        "\n",
        "        Args:\n",
        "            word_pairs_with_scores: List of tuples (word1, word2, human_score)\n",
        "\n",
        "        Returns:\n",
        "            Spearman correlation with human judgments\n",
        "        \"\"\"\n",
        "\n",
        "        model_similarities = []\n",
        "        human_similarities = []\n",
        "\n",
        "        for word1, word2, human_score in word_pairs_with_scores:\n",
        "            try:\n",
        "                model_sim = self.wv.similarity(word1, word2)\n",
        "                model_similarities.append(model_sim)\n",
        "                human_similarities.append(human_score)\n",
        "            except KeyError:\n",
        "                # Skip if words not in vocabulary\n",
        "                continue\n",
        "\n",
        "        if len(model_similarities) < 10:\n",
        "            print(\"Warning: Too few valid word pairs for reliable evaluation\")\n",
        "            return None\n",
        "\n",
        "        correlation, p_value = spearmanr(human_similarities, model_similarities)\n",
        "\n",
        "        print(f\"Word Similarity Evaluation:\")\n",
        "        print(f\"Valid pairs: {len(model_similarities)}\")\n",
        "        print(f\"Spearman correlation: {correlation:.4f}\")\n",
        "        print(f\"P-value: {p_value:.4f}\")\n",
        "\n",
        "        return correlation\n",
        "\n",
        "    def evaluate_analogies(self, analogy_dataset):\n",
        "        \"\"\"\n",
        "        Evaluate model on word analogy tasks\n",
        "\n",
        "        Args:\n",
        "            analogy_dataset: List of tuples (word_a, word_b, word_c, word_d)\n",
        "                           representing \"word_a is to word_b as word_c is to word_d\"\n",
        "\n",
        "        Returns:\n",
        "            Accuracy on analogy task\n",
        "        \"\"\"\n",
        "\n",
        "        correct = 0\n",
        "        total = 0\n",
        "        #('king', 'queen', 'man', 'woman'),\n",
        "        for word_a, word_b, word_c, expected_d in analogy_dataset:\n",
        "            try:\n",
        "                # Predict word_d\n",
        "                result = self.wv.most_similar(\n",
        "                    positive=[word_a, word_b],\n",
        "                    negative=[word_c],\n",
        "                    topn=1\n",
        "                )\n",
        "\n",
        "                predicted_d = result\n",
        "\n",
        "                if predicted_d[0][0].lower() == expected_d.lower():\n",
        "                    correct += 1\n",
        "\n",
        "                total += 1\n",
        "\n",
        "            except (KeyError, IndexError):\n",
        "                # Skip if words not in vocabulary\n",
        "                continue\n",
        "\n",
        "        if total == 0:\n",
        "            print(\"Warning: No valid analogies found\")\n",
        "            return 0\n",
        "\n",
        "        accuracy = correct / total\n",
        "\n",
        "        print(f\"Analogy Evaluation:\")\n",
        "        print(f\"Valid analogies: {total}\")\n",
        "        print(f\"Correct predictions: {correct}\")\n",
        "        print(f\"Accuracy: {accuracy:.4f}\")\n",
        "\n",
        "        return accuracy\n",
        "\n",
        "    def evaluate_odd_one_out(self, word_groups):\n",
        "        \"\"\"\n",
        "        Evaluate model's ability to identify odd words in groups\n",
        "\n",
        "        Args:\n",
        "            word_groups: List of lists, each containing words where one doesn't belong\n",
        "\n",
        "        Returns:\n",
        "            Accuracy on odd-one-out task\n",
        "        \"\"\"\n",
        "\n",
        "        correct = 0\n",
        "        total = 0\n",
        "\n",
        "        for group in word_groups:\n",
        "            if len(group) < 3:\n",
        "                continue\n",
        "\n",
        "            try:\n",
        "                # Find the word that doesn't match others\n",
        "                odd_word = self.wv.doesnt_match(group)\n",
        "\n",
        "                # This is tricky - we need ground truth to evaluate properly\n",
        "                # For now, just check if the model can identify AN odd word\n",
        "                correct += 1  # Placeholder - you'd need labeled data\n",
        "                total += 1\n",
        "\n",
        "            except KeyError:\n",
        "                continue\n",
        "\n",
        "        if total == 0:\n",
        "            return 0\n",
        "\n",
        "        accuracy = correct / total\n",
        "\n",
        "        print(f\"Odd-One-Out Evaluation:\")\n",
        "        print(f\"  Valid groups: {total}\")\n",
        "        print(f\"  Accuracy: {accuracy:.4f}\")\n",
        "\n",
        "        return accuracy\n",
        "\n",
        "    def analyze_vocabulary_coverage(self, test_texts):\n",
        "        \"\"\"\n",
        "        Analyze how well model vocabulary covers test texts\n",
        "\n",
        "        Args:\n",
        "            test_texts: List of text strings\n",
        "\n",
        "        Returns:\n",
        "            Coverage statistics\n",
        "        \"\"\"\n",
        "\n",
        "        vocab = set(self.wv.index_to_key)\n",
        "\n",
        "        total_words = 0\n",
        "        covered_words = 0\n",
        "        unknown_words = set()\n",
        "\n",
        "        for text in test_texts:\n",
        "            words = text.lower().split()\n",
        "            total_words += len(words)\n",
        "\n",
        "            for word in words:\n",
        "                if word in vocab:\n",
        "                    covered_words += 1\n",
        "                else:\n",
        "                    unknown_words.add(word)\n",
        "\n",
        "        coverage_ratio = covered_words / total_words if total_words > 0 else 0\n",
        "\n",
        "        print(f\"Vocabulary Coverage Analysis:\")\n",
        "        print(f\"  Total words in test: {total_words}\")\n",
        "        print(f\"  Covered words: {covered_words}\")\n",
        "        print(f\"  Coverage ratio: {coverage_ratio:.4f}\")\n",
        "        print(f\"  Unknown words: {len(unknown_words)}\")\n",
        "\n",
        "        return {\n",
        "            'coverage_ratio': coverage_ratio,\n",
        "            'unknown_words': list(unknown_words)[:20],  # Show first 20\n",
        "            'total_unknown': len(unknown_words)\n",
        "        }\n",
        "\n",
        "    def compare_with_baseline(self, baseline_model, test_words):\n",
        "        \"\"\"\n",
        "        Compare model performance with baseline model\n",
        "\n",
        "        Args:\n",
        "            baseline_model: Another Word2Vec model to compare against\n",
        "            test_words: List of words to test\n",
        "\n",
        "        Returns:\n",
        "            Comparison statistics\n",
        "        \"\"\"\n",
        "\n",
        "        common_words = []\n",
        "        for word in test_words:\n",
        "            if word in self.wv and word in baseline_model.wv:\n",
        "                common_words.append(word)\n",
        "\n",
        "        if len(common_words) < 10:\n",
        "            print(\"Warning: Too few common words for reliable comparison\")\n",
        "            return None\n",
        "\n",
        "        # Compare similarity patterns\n",
        "        similarities = []\n",
        "\n",
        "        for i, word1 in enumerate(common_words[:20]):  # Test subset\n",
        "            for word2 in common_words[i+1:21]:  # Avoid too many comparisons\n",
        "\n",
        "                sim1 = self.wv.similarity(word1, word2)\n",
        "                sim2 = baseline_model.wv.similarity(word1, word2)\n",
        "\n",
        "                similarities.append((sim1, sim2))\n",
        "\n",
        "        model_sims = [s for s in similarities]\n",
        "        baseline_sims = [s for s in similarities]\n",
        "\n",
        "        correlation, _ = spearmanr(model_sims, baseline_sims)\n",
        "\n",
        "        print(f\"Model Comparison:\")\n",
        "        print(f\"  Common vocabulary: {len(common_words)}\")\n",
        "        print(f\"  Similarity correlation: {correlation:.4f}\")\n",
        "\n",
        "        return correlation"
      ]
    },
    {
      "cell_type": "markdown",
      "metadata": {
        "id": "mowJL1Ire8EZ"
      },
      "source": [
        "This code provides example datasets and shows how to use the Word2VecEvaluator class. It defines a few word similarity pairs with human scores and some analogy examples. Then, it creates an evaluator for the trained model and calculates:\n",
        "\n",
        "- Word similarity score using evaluate_word_similarity.\n",
        "\n",
        "- Analogy accuracy using evaluate_analogies."
      ]
    },
    {
      "cell_type": "code",
      "execution_count": 231,
      "metadata": {
        "colab": {
          "base_uri": "https://localhost:8080/"
        },
        "id": "5fczX21zwrFA",
        "outputId": "a28fa5f1-84d2-4b88-c0bc-eec5b3fb84b0"
      },
      "outputs": [
        {
          "name": "stdout",
          "output_type": "stream",
          "text": [
            "Warning: Too few valid word pairs for reliable evaluation\n",
            "Analogy Evaluation:\n",
            "Valid analogies: 4\n",
            "Correct predictions: 1\n",
            "Accuracy: 0.2500\n"
          ]
        }
      ],
      "source": [
        "# Example evaluation datasets\n",
        "word_similarity_pairs = [\n",
        "    ('king', 'queen', 8.5),\n",
        "    ('man', 'woman', 8.3),\n",
        "    ('car', 'automobile', 9.2),\n",
        "    ('computer', 'laptop', 7.8),\n",
        "    ('cat', 'dog', 6.1),\n",
        "    ('happy', 'sad', 2.1),\n",
        "]\n",
        "\n",
        "analogy_examples = [\n",
        "    ('king', 'queen', 'man', 'woman'),\n",
        "    ('paris', 'france', 'london', 'england'),\n",
        "    ('walking', 'walked', 'running', 'ran'),\n",
        "    ('good', 'better', 'bad', 'worse'),\n",
        "]\n",
        "\n",
        "# Usage example\n",
        "evaluator = Word2VecEvaluator(model)\n",
        "sim_score = evaluator.evaluate_word_similarity(word_similarity_pairs)\n",
        "analogy_score = evaluator.evaluate_analogies(analogy_examples)"
      ]
    },
    {
      "cell_type": "code",
      "execution_count": 223,
      "metadata": {
        "colab": {
          "base_uri": "https://localhost:8080/"
        },
        "id": "_xEFGVODwyAU",
        "outputId": "05cac0c5-51c4-40e7-fad6-e0f6cad843b5"
      },
      "outputs": [
        {
          "name": "stdout",
          "output_type": "stream",
          "text": [
            "Most similar words to 'alice':\n",
            "but: 0.6842668056488037\n",
            "puss: 0.6725885272026062\n",
            "contradicted: 0.6625235676765442\n",
            "rather: 0.6425396203994751\n",
            "pleasanter: 0.6370757222175598\n",
            "very: 0.6306383609771729\n",
            "natured: 0.6287859082221985\n",
            "timidly: 0.6235299706459045\n",
            "living: 0.6205926537513733\n",
            "right: 0.6101088523864746\n"
          ]
        }
      ],
      "source": [
        "word = \"alice\" # This shows words that appear in similar contexts to \"alice.\"\n",
        "if word in model.wv:\n",
        "    similar_words = model.wv.most_similar(word, topn=10)\n",
        "    print(f\"Most similar words to '{word}':\")\n",
        "    for similar_word, similarity in similar_words:\n",
        "        print(f\"{similar_word}: {similarity}\")\n",
        "else:\n",
        "    print(\"Word is not in the vocabulary.\")"
      ]
    },
    {
      "cell_type": "code",
      "execution_count": 222,
      "metadata": {
        "colab": {
          "base_uri": "https://localhost:8080/"
        },
        "id": "lS2tkck4wzBy",
        "outputId": "29fd1942-9e71-4145-fa90-8615e906ab36"
      },
      "outputs": [
        {
          "data": {
            "text/plain": [
              "0.53155714"
            ]
          },
          "execution_count": 222,
          "metadata": {},
          "output_type": "execute_result"
        }
      ],
      "source": [
        "model.wv.similarity('king', 'man')"
      ]
    },
    {
      "cell_type": "markdown",
      "metadata": {
        "id": "vkjwaxZLRZAQ"
      },
      "source": [
        "### Visualization"
      ]
    },
    {
      "cell_type": "markdown",
      "metadata": {
        "id": "HzEyOGDMSz-Q"
      },
      "source": [
        "####Word Similarity Heatmap"
      ]
    },
    {
      "cell_type": "markdown",
      "metadata": {
        "id": "lLyK2IU0hwwh"
      },
      "source": [
        "This code makes a heatmap showing how similar each word is to the others in the list using the model’s embeddings, so you can easily see which Alice characters are contextually related."
      ]
    },
    {
      "cell_type": "code",
      "execution_count": 224,
      "metadata": {
        "colab": {
          "base_uri": "https://localhost:8080/",
          "height": 807
        },
        "id": "zv1JShQfRRJu",
        "outputId": "41623212-0561-4db7-d482-354c2b3f3be6"
      },
      "outputs": [
        {
          "data": {
            "image/png": "[encoded data removed]",
            "text/plain": [
              "<Figure size 1000x800 with 2 Axes>"
            ]
          },
          "metadata": {},
          "output_type": "display_data"
        }
      ],
      "source": [
        "\n",
        "\n",
        "def visualize_word_similarities(model, words):\n",
        "    \"\"\"Create heatmap of word similarities\"\"\"\n",
        "\n",
        "    # Filter words that exist in vocabulary\n",
        "    vocab_words = [word for word in words if word in model.wv]\n",
        "\n",
        "    if len(vocab_words) < 2:\n",
        "        print(\"Not enough words in vocabulary for visualization\")\n",
        "        return\n",
        "\n",
        "    # Create similarity matrix\n",
        "    similarity_matrix = np.zeros((len(vocab_words), len(vocab_words)))\n",
        "\n",
        "    for i, word1 in enumerate(vocab_words):\n",
        "        for j, word2 in enumerate(vocab_words):\n",
        "            if i != j:\n",
        "                similarity_matrix[i][j] = model.wv.similarity(word1, word2)\n",
        "            else:\n",
        "                similarity_matrix[i][j] = 1.0\n",
        "\n",
        "    # Create heatmap\n",
        "    plt.figure(figsize=(10, 8))\n",
        "    sns.heatmap(similarity_matrix,\n",
        "                xticklabels=vocab_words,\n",
        "                yticklabels=vocab_words,\n",
        "                annot=True,\n",
        "                cmap='coolwarm',\n",
        "                center=0,\n",
        "                fmt='.2f')\n",
        "    plt.title('Word Similarity Matrix - Alice Characters')\n",
        "    plt.tight_layout()\n",
        "    plt.show()\n",
        "\n",
        "# Visualize Alice character relationships\n",
        "alice_characters = ['alice', 'rabbit', 'hatter', 'queen', 'cat', 'mouse', 'king', 'duchess']\n",
        "visualize_word_similarities(model, alice_characters)"
      ]
    },
    {
      "cell_type": "markdown",
      "metadata": {
        "id": "Yk6byXEuRjo4"
      },
      "source": [
        "#### Word Embeddings Visualization (2D)"
      ]
    },
    {
      "cell_type": "markdown",
      "metadata": {
        "id": "3M-KEbknmRmX"
      },
      "source": [
        "This function takes a trained word embedding model (like Word2Vec) and shows the words in 2D space so you can see how similar words group together."
      ]
    },
    {
      "cell_type": "code",
      "execution_count": 226,
      "metadata": {
        "colab": {
          "base_uri": "https://localhost:8080/",
          "height": 807
        },
        "id": "cfhu7RO8RRcD",
        "outputId": "d10094ea-434c-42fe-ecab-75c91f97c2f8"
      },
      "outputs": [
        {
          "data": {
            "image/png": "[encoded data removed]",
            "text/plain": [
              "<Figure size 1200x800 with 1 Axes>"
            ]
          },
          "metadata": {},
          "output_type": "display_data"
        }
      ],
      "source": [
        "from sklearn.decomposition import PCA\n",
        "from sklearn.manifold import TSNE\n",
        "import matplotlib.pyplot as plt\n",
        "\n",
        "def visualize_word_embeddings(model, words, method='tsne'):\n",
        "    \"\"\"Visualize word embeddings in 2D space\"\"\"\n",
        "\n",
        "    # Filter words in vocabulary\n",
        "    vocab_words = [word for word in words if word in model.wv]\n",
        "\n",
        "    if len(vocab_words) < 3:\n",
        "        print(\"Need at least 3 words for visualization\")\n",
        "        return\n",
        "\n",
        "    # Get word vectors\n",
        "    word_vectors = np.array([model.wv[word] for word in vocab_words])\n",
        "\n",
        "    # Reduce dimensionality\n",
        "    if method == 'pca':\n",
        "        reducer = PCA(n_components=2, random_state=42)\n",
        "        coords = reducer.fit_transform(word_vectors)\n",
        "        title = 'Word Embeddings Visualization (PCA)'\n",
        "    else:\n",
        "        reducer = TSNE(n_components=2, random_state=42, perplexity=min(30, len(vocab_words)-1))\n",
        "        coords = reducer.fit_transform(word_vectors)\n",
        "        title = 'Word Embeddings Visualization (t-SNE)'\n",
        "\n",
        "    # Create scatter plot\n",
        "    plt.figure(figsize=(12, 8))\n",
        "    scatter = plt.scatter(coords[:, 0], coords[:, 1], s=100, alpha=0.7, c=range(len(vocab_words)), cmap='tab10')\n",
        "\n",
        "    # Add word labels\n",
        "    for i, word in enumerate(vocab_words):\n",
        "        plt.annotate(word, (coords[i, 0], coords[i, 1]),\n",
        "                    xytext=(5, 5), textcoords='offset points',\n",
        "                    fontsize=12, fontweight='bold')\n",
        "\n",
        "    plt.title(title)\n",
        "    plt.xlabel('Component 1')\n",
        "    plt.ylabel('Component 2')\n",
        "    plt.grid(True, alpha=0.3)\n",
        "    plt.tight_layout()\n",
        "    plt.show()\n",
        "\n",
        "# Visualize different word categories\n",
        "all_words = ['alice', 'rabbit', 'hatter', 'queen', 'king', 'cat', 'mouse',\n",
        "             'mad', 'happy', 'curious', 'frightened', 'large', 'small',\n",
        "             'tea', 'party', 'garden', 'wonderland']\n",
        "\n",
        "visualize_word_embeddings(model, all_words, method='tsne')"
      ]
    },
    {
      "cell_type": "markdown",
      "metadata": {},
      "source": [
        "\n",
        "- Takes high-dimensional word vectors (50-300 dimensions)\n",
        "- Reduces them to 2D using t-SNE or PCA\n",
        "- Creates a scatter plot where similar words appear closer together\n",
        "- Labels each point with the actual word"
      ]
    },
    {
      "cell_type": "markdown",
      "metadata": {
        "id": "tU4cfbhuRtPG"
      },
      "source": [
        "### Model Performance Visualization"
      ]
    },
    {
      "cell_type": "markdown",
      "metadata": {
        "id": "syXjcfF4oXYv"
      },
      "source": [
        "This code gives a quick visual summary of what the model learned and how it’s set up."
      ]
    },
    {
      "cell_type": "code",
      "execution_count": 227,
      "metadata": {
        "colab": {
          "base_uri": "https://localhost:8080/",
          "height": 932
        },
        "id": "OhR3F0EhRq6U",
        "outputId": "73e0c1e3-5f7d-42f2-fbca-03b044f76035"
      },
      "outputs": [
        {
          "data": {
            "image/png": "[encoded data removed]",
            "text/plain": [
              "<Figure size 1500x1000 with 4 Axes>"
            ]
          },
          "metadata": {},
          "output_type": "display_data"
        }
      ],
      "source": [
        "def plot_model_performance(model):\n",
        "    \"\"\"Visualize model training and performance metrics\"\"\"\n",
        "\n",
        "    fig, ((ax1, ax2), (ax3, ax4)) = plt.subplots(2, 2, figsize=(15, 10))\n",
        "\n",
        "    # 1. Vocabulary size and coverage\n",
        "    vocab_size = len(model.wv.index_to_key)\n",
        "    ax1.bar(['Vocabulary Size'], [vocab_size], color='skyblue')\n",
        "    ax1.set_title('Model Vocabulary Size')\n",
        "    ax1.set_ylabel('Number of Words')\n",
        "\n",
        "    # 2. Word frequency distribution (top 20 words)\n",
        "    word_freq = {}\n",
        "    for sentence in processed_sentences:\n",
        "        for word in sentence:\n",
        "            word_freq[word] = word_freq.get(word, 0) + 1\n",
        "\n",
        "    top_words = sorted(word_freq.items(), key=lambda x: x[1], reverse=True)[:20]\n",
        "    words, freqs = zip(*top_words)\n",
        "\n",
        "    ax2.barh(range(len(words)), freqs)\n",
        "    ax2.set_yticks(range(len(words)))\n",
        "    ax2.set_yticklabels(words)\n",
        "    ax2.set_title('Top 20 Most Frequent Words')\n",
        "    ax2.set_xlabel('Frequency')\n",
        "\n",
        "    # 3. Similarity score distribution for sample word pairs\n",
        "    alice_chars = ['alice', 'rabbit', 'hatter', 'queen', 'cat']\n",
        "    similarities = []\n",
        "\n",
        "    for i in range(len(alice_chars)):\n",
        "        for j in range(i+1, len(alice_chars)):\n",
        "            if alice_chars[i] in model.wv and alice_chars[j] in model.wv:\n",
        "                sim = model.wv.similarity(alice_chars[i], alice_chars[j])\n",
        "                similarities.append(sim)\n",
        "\n",
        "    ax3.hist(similarities, bins=10, alpha=0.7, color='lightgreen')\n",
        "    ax3.set_title('Distribution of Character Similarity Scores')\n",
        "    ax3.set_xlabel('Similarity Score')\n",
        "    ax3.set_ylabel('Frequency')\n",
        "\n",
        "    # 4. Model parameters summary\n",
        "    params_text = f\"\"\"Model Configuration:\n",
        "    Vector Size: {model.wv.vector_size}\n",
        "    Window Size: {model.window}\n",
        "    Min Count: {model.min_count}\n",
        "    Algorithm: {\"Skip-gram\" if model.sg else \"CBOW\"}\n",
        "    Vocabulary: {len(model.wv.index_to_key)} words\n",
        "    \"\"\"\n",
        "\n",
        "    ax4.text(0.1, 0.5, params_text, fontsize=12, verticalalignment='center',\n",
        "             bbox=dict(boxstyle=\"round,pad=0.3\", facecolor=\"lightblue\"))\n",
        "    ax4.set_xlim(0, 1)\n",
        "    ax4.set_ylim(0, 1)\n",
        "    ax4.axis('off')\n",
        "    ax4.set_title('Model Configuration')\n",
        "\n",
        "    plt.tight_layout()\n",
        "    plt.show()\n",
        "\n",
        "# Generate comprehensive performance visualization\n",
        "plot_model_performance(model)"
      ]
    },
    {
      "cell_type": "markdown",
      "metadata": {},
      "source": [
        "- Total vocabulary size\n",
        "- Most frequent words in the corpus\n",
        "- Distribution of similarity scores between key characters\n",
        "- Model configuration parameters"
      ]
    }
  ],
  "metadata": {
    "colab": {
      "provenance": []
    },
    "kernelspec": {
      "display_name": "demo",
      "language": "python",
      "name": "python3"
    },
    "language_info": {
      "codemirror_mode": {
        "name": "ipython",
        "version": 3
      },
      "file_extension": ".py",
      "mimetype": "text/x-python",
      "name": "python",
      "nbconvert_exporter": "python",
      "pygments_lexer": "ipython3",
      "version": "3.11.9"
    }
  },
  "nbformat": 4,
  "nbformat_minor": 0
}
